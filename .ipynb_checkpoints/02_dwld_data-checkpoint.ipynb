{
 "cells": [
  {
   "cell_type": "code",
   "execution_count": null,
   "id": "fc55d183",
   "metadata": {},
   "outputs": [],
   "source": [
    "from os import path\n",
    "import os\n",
    "import pandas as pd\n",
    "import requests, zipfile, io, os\n",
    "from zipfile import BadZipfile\n",
    "from zipfile import ZipFile\n",
    "import shutil\n",
    "import glob\n",
    "import numpy as np\n",
    "pd.set_option('display.max_colwidth', -1)"
   ]
  },
  {
   "cell_type": "code",
   "execution_count": null,
   "id": "3805e6f3",
   "metadata": {
    "scrolled": true
   },
   "outputs": [],
   "source": [
    "df = pd.read_csv('AllRegion_EPWLinks.csv', index_col=0) \n",
    "df"
   ]
  },
  {
   "cell_type": "code",
   "execution_count": null,
   "id": "04321cb7",
   "metadata": {},
   "outputs": [],
   "source": [
    "df['zip'] = df['URL for files'].str.split('/').str[-1]\n",
    "df['zip']"
   ]
  },
  {
   "cell_type": "code",
   "execution_count": null,
   "id": "ec454ac6",
   "metadata": {
    "scrolled": true
   },
   "outputs": [],
   "source": [
    "df['WMO'] = df['zip'].str.extract('(\\d+)')\n",
    "df['WMO'] = df['WMO'].fillna(0)\n",
    "df['WMO'] =df['WMO'].astype(str).astype(int)\n",
    "\n",
    "df['WMO'].dtypes"
   ]
  },
  {
   "cell_type": "code",
   "execution_count": null,
   "id": "aa49dfb1",
   "metadata": {},
   "outputs": [],
   "source": [
    "df['last_year'] = df['zip'].str.split('.').str[-2].str.split('-').str[-1]\n",
    "df['last_year'] = df['last_year'].astype('string')\n",
    "df['last_year'] = df['last_year'].str[-4:]\n",
    "\n",
    "df['last_year'].head()"
   ]
  },
  {
   "cell_type": "code",
   "execution_count": null,
   "id": "07a26dc2",
   "metadata": {},
   "outputs": [],
   "source": [
    "def download_file(url):\n",
    "    headers=   {\"Auth\": \"{abcd}\", \n",
    "                \"accept\": \"*/*\",               \n",
    "               \"accept-encoding\": \"gzip;deflate;br\" }\n",
    "    response = requests.request(\"GET\", url, headers = headers)\n",
    "    filename = os.getcwd()+'/downloads_EPW/'\n",
    "    #filename = os.getcwd()+'/test_epw/'\n",
    "    try:\n",
    "        with ZipFile(io.BytesIO(response.content)) as z:\n",
    "            print(\"zipfile is OK\")\n",
    "            #z = zipfile.ZipFile(io.BytesIO(response.content))\n",
    "            z_files = z.namelist()\n",
    "            #print(z_files)\n",
    "            extension = '.epw'\n",
    "            epw = [file for file in z_files if os.path.splitext(file)[1] == extension]\n",
    "            epwName= epw[0]\n",
    "            print(epwName)\n",
    "            z.extract(epw[0],filename)\n",
    "            #print(epw[0])\n",
    "            #print(filename)\n",
    "            #z.extractall(filename)\n",
    "    except BadZipfile:\n",
    "        print('Download did not work')\n",
    "        epwName = \"N/A\"\n",
    "    return response.status_code, epwName\n",
    "\n"
   ]
  },
  {
   "cell_type": "code",
   "execution_count": null,
   "id": "0b3d7ddd",
   "metadata": {},
   "outputs": [],
   "source": [
    "## Read in an EPW file to a Pandas dataframe\n",
    "def readEPW(path):\n",
    "    # Read the location\n",
    "    df = pd.read_csv(path, nrows=1, header=None,encoding_errors='ignore') # Read only the first row\n",
    "    latitude = df.iloc[0, 6]\n",
    "    longitude = df.iloc[0, 7]\n",
    "    timezone = df.iloc[0, 8]\n",
    "    \n",
    "    # Read the hourly data\n",
    "    df = pd.read_csv(path, skiprows=range(8), header=None,encoding_errors='ignore') # Read the file, skip the 8 header rows\n",
    "    # There are no column names in the file. We need to assign them.\n",
    "    df.columns = ['Year', 'Month', 'Day', 'Hour', 'Minute', 'Data Source and Uncertainty Flags',\n",
    "                  'Dry Bulb Temperature', 'Dew Point Temperature', 'Relative Humidity', 'Atmospheric Station Pressure',\n",
    "                  'Extraterrestrial Horizontal Radiation', 'Extraterrestrial Direct Normal Radiation', 'Horizontal Infrared Radiation Intensity',\n",
    "                  'Global Horizontal Radiation', 'Direct Normal Radiation', 'Diffuse Horizontal Radiation',\n",
    "                  'Global Horizontal Illuminance', 'Direct Normal Illuminance', 'Diffuse Horizontal Illuminance', 'Zenith Luminance',\n",
    "                  'Wind Direction', 'Wind Speed', 'Total Sky Cover', 'Opaque Sky Cover', 'Visibility', 'Ceiling Height',\n",
    "                  'Present Weather Observation', 'Present Weather Codes', 'Precipitable Water', 'Aerosol Optical Depth',\n",
    "                  'Snow Depth', 'Days Since Last Snowfall', 'Albedo', 'Liquid Precipitation Depth', 'Liquid Precipitation Quantity']\n",
    "    return df"
   ]
  },
  {
   "cell_type": "code",
   "execution_count": null,
   "id": "6686acd2",
   "metadata": {},
   "outputs": [],
   "source": [
    "## Read in an EPW file to a Pandas dataframe\n",
    "def readEPW_DesignDay(path):\n",
    "    # Read the location\n",
    "    df = pd.read_csv(path, nrows=1, header=None,encoding_errors='ignore') # Read only the first row\n",
    "    latitude = df.iloc[0, 6]\n",
    "    longitude = df.iloc[0, 7]\n",
    "    timezone = df.iloc[0, 8]\n",
    "    \n",
    "    # Read the hourly data\n",
    "    df = pd.read_csv(path, skiprows=range(8), header=None,encoding_errors='ignore') # Read the file, skip the 8 header rows\n",
    "    # There are no column names in the file. We need to assign them.\n",
    "    df.columns = ['Year', 'Month', 'Day', 'Hour', 'Minute', 'Data Source and Uncertainty Flags',\n",
    "                  'Dry Bulb Temperature', 'Dew Point Temperature', 'Relative Humidity', 'Atmospheric Station Pressure',\n",
    "                  'Extraterrestrial Horizontal Radiation', 'Extraterrestrial Direct Normal Radiation', 'Horizontal Infrared Radiation Intensity',\n",
    "                  'Global Horizontal Radiation', 'Direct Normal Radiation', 'Diffuse Horizontal Radiation',\n",
    "                  'Global Horizontal Illuminance', 'Direct Normal Illuminance', 'Diffuse Horizontal Illuminance', 'Zenith Luminance',\n",
    "                  'Wind Direction', 'Wind Speed', 'Total Sky Cover', 'Opaque Sky Cover', 'Visibility', 'Ceiling Height',\n",
    "                  'Present Weather Observation', 'Present Weather Codes', 'Precipitable Water', 'Aerosol Optical Depth',\n",
    "                  'Snow Depth', 'Days Since Last Snowfall', 'Albedo', 'Liquid Precipitation Depth', 'Liquid Precipitation Quantity']\n",
    "    \n",
    "    htg_996_epw= df['Dry Bulb Temperature'].quantile(q=0.004)\n",
    "    htg_990_epw= df['Dry Bulb Temperature'].quantile(q=0.010)\n",
    "    clg_004_epw= df['Dry Bulb Temperature'].quantile(q=0.996)\n",
    "    clg_010_epw= df['Dry Bulb Temperature'].quantile(q=0.99)\n",
    "    return htg_996_epw,htg_990_epw,clg_004_epw,clg_010_epw"
   ]
  },
  {
   "cell_type": "code",
   "execution_count": null,
   "id": "249dbc74",
   "metadata": {
    "scrolled": true
   },
   "outputs": [],
   "source": [
    "#import DD data\n",
    "df_DD = pd.read_excel('Climate Data 2021_SI.xlsx', index_col=0) \n",
    "df_DD"
   ]
  },
  {
   "cell_type": "code",
   "execution_count": null,
   "id": "7be87dd1",
   "metadata": {
    "scrolled": true
   },
   "outputs": [],
   "source": [
    "df_summary = df.merge(df_DD, how='inner', on='WMO')\n",
    "df_summary"
   ]
  },
  {
   "cell_type": "code",
   "execution_count": null,
   "id": "e609b20c",
   "metadata": {
    "scrolled": true
   },
   "outputs": [],
   "source": [
    "s_htg_996_epw= []\n",
    "s_htg_990_epw= []\n",
    "s_clg_004_epw= []\n",
    "s_clg_010_epw= []\n",
    "\n",
    "counter =0\n",
    "#for url in df_summary['URL for files']:\n",
    "for index in df_summary.index:\n",
    "    if index > counter:\n",
    "        #print(index)\n",
    "        print(counter)\n",
    "        counter=counter+1\n",
    "        url = df_summary.loc[index,'URL for files']\n",
    "        print(url)\n",
    "        status, epwpath = download_file(url)\n",
    "        print(status, epwpath)\n",
    "        if status ==  200:\n",
    "            htg_996,htg_990,clg_004,clg_010 = readEPW_DesignDay(path.join('downloads_EPW/',epwpath))\n",
    "            #print(htg_996,htg_990,clg_004,clg_010)\n",
    "            s_htg_996_epw.append(htg_996)\n",
    "            s_htg_990_epw.append(htg_990)\n",
    "            s_clg_004_epw.append(clg_004)\n",
    "            s_clg_010_epw.append(clg_010)\n",
    "            os.remove(path.join('downloads_EPW/',epwpath))\n",
    "        else:\n",
    "            s_htg_996_epw.append(\"N/A\")\n",
    "            s_htg_990_epw.append(\"N/A\")\n",
    "            s_clg_004_epw.append(\"N/A\")\n",
    "            s_clg_010_epw.append(\"N/A\")\n",
    "        continue"
   ]
  },
  {
   "cell_type": "code",
   "execution_count": null,
   "id": "960defb4",
   "metadata": {},
   "outputs": [],
   "source": [
    "df_summary['Heating DB 99.6% - EPW'] = s_htg_996_epw\n",
    "df_summary['Heating DB 99% - EPW'] = s_htg_990_epw\n",
    "df_summary['Cooling DB 0.4% - EPW'] = s_clg_004_epw\n",
    "df_summary['Cooling DB 1% - EPW'] = s_clg_010_epw\n",
    "df_summary"
   ]
  },
  {
   "cell_type": "code",
   "execution_count": null,
   "id": "eb28671f",
   "metadata": {},
   "outputs": [],
   "source": [
    "filename = 'AllRegion_Results.csv'\n",
    "export_csv = df_merge.to_csv(filename, index = None, header=True) "
   ]
  },
  {
   "cell_type": "code",
   "execution_count": null,
   "id": "2a2ba66f",
   "metadata": {},
   "outputs": [],
   "source": []
  }
 ],
 "metadata": {
  "kernelspec": {
   "display_name": "Python 3 (ipykernel)",
   "language": "python",
   "name": "python3"
  },
  "language_info": {
   "codemirror_mode": {
    "name": "ipython",
    "version": 3
   },
   "file_extension": ".py",
   "mimetype": "text/x-python",
   "name": "python",
   "nbconvert_exporter": "python",
   "pygments_lexer": "ipython3",
   "version": "3.9.12"
  }
 },
 "nbformat": 4,
 "nbformat_minor": 5
}

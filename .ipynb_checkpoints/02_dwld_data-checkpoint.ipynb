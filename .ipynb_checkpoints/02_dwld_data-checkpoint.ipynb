{
 "cells": [
  {
   "cell_type": "code",
   "execution_count": 1,
   "id": "fc55d183",
   "metadata": {},
   "outputs": [
    {
     "name": "stderr",
     "output_type": "stream",
     "text": [
      "/var/folders/mk/7yynft554x38v3t6f_65fkzc0000gn/T/ipykernel_97470/64196590.py:10: FutureWarning: Passing a negative integer is deprecated in version 1.0 and will not be supported in future version. Instead, use None to not limit the column width.\n",
      "  pd.set_option('display.max_colwidth', -1)\n"
     ]
    }
   ],
   "source": [
    "from os import path\n",
    "import os\n",
    "import pandas as pd\n",
    "import requests, zipfile, io, os\n",
    "from zipfile import BadZipfile\n",
    "from zipfile import ZipFile\n",
    "import shutil\n",
    "import glob\n",
    "import numpy as np\n",
    "pd.set_option('display.max_colwidth', -1)"
   ]
  },
  {
   "cell_type": "code",
   "execution_count": 2,
   "id": "3805e6f3",
   "metadata": {
    "scrolled": true
   },
   "outputs": [
    {
     "data": {
      "text/html": [
       "<div>\n",
       "<style scoped>\n",
       "    .dataframe tbody tr th:only-of-type {\n",
       "        vertical-align: middle;\n",
       "    }\n",
       "\n",
       "    .dataframe tbody tr th {\n",
       "        vertical-align: top;\n",
       "    }\n",
       "\n",
       "    .dataframe thead th {\n",
       "        text-align: right;\n",
       "    }\n",
       "</style>\n",
       "<table border=\"1\" class=\"dataframe\">\n",
       "  <thead>\n",
       "    <tr style=\"text-align: right;\">\n",
       "      <th></th>\n",
       "      <th>Location Name</th>\n",
       "      <th>Coordinates</th>\n",
       "      <th>URL for files</th>\n",
       "    </tr>\n",
       "  </thead>\n",
       "  <tbody>\n",
       "    <tr>\n",
       "      <th>0</th>\n",
       "      <td>Vernadsky.Research.Base-Argentine.Islands GBR ATA</td>\n",
       "      <td>['-64.26700', '-65.25000', '9.0']</td>\n",
       "      <td>https://climate.onebuilding.org/WMO_Region_7_Antarctica/ATA_Antarctica/ATA_GBR_Vernadsky.Research.Base-Argentine.Islands.889520_TMYx.zip</td>\n",
       "    </tr>\n",
       "    <tr>\n",
       "      <th>1</th>\n",
       "      <td>Esperanza.Base-Hope.Bay ARG ATA</td>\n",
       "      <td>['-56.99730', '-63.39810', '3.0']</td>\n",
       "      <td>https://climate.onebuilding.org/WMO_Region_7_Antarctica/ATA_Antarctica/ATA_ARG_Esperanza.Base-Hope.Bay.889630_TMYx.2004-2018.zip</td>\n",
       "    </tr>\n",
       "    <tr>\n",
       "      <th>2</th>\n",
       "      <td>Esperanza.Base-Hope.Bay ARG ATA</td>\n",
       "      <td>['-56.99730', '-63.39810', '3.0']</td>\n",
       "      <td>https://climate.onebuilding.org/WMO_Region_7_Antarctica/ATA_Antarctica/ATA_ARG_Esperanza.Base-Hope.Bay.889630_TMYx.2007-2021.zip</td>\n",
       "    </tr>\n",
       "    <tr>\n",
       "      <th>3</th>\n",
       "      <td>Esperanza.Base-Hope.Bay ARG ATA</td>\n",
       "      <td>['-56.99730', '-63.39810', '3.0']</td>\n",
       "      <td>https://climate.onebuilding.org/WMO_Region_7_Antarctica/ATA_Antarctica/ATA_ARG_Esperanza.Base-Hope.Bay.889630_TMYx.zip</td>\n",
       "    </tr>\n",
       "    <tr>\n",
       "      <th>4</th>\n",
       "      <td>Orcadas.Base-Laurie.Island-South.Orkney.Islands ARG ATA</td>\n",
       "      <td>['-44.73300', '-60.73300', '8.0']</td>\n",
       "      <td>https://climate.onebuilding.org/WMO_Region_7_Antarctica/ATA_Antarctica/ATA_ARG_Orcadas.Base-Laurie.Island-South.Orkney.Islands.889680_TMYx.2004-2018.zip</td>\n",
       "    </tr>\n",
       "    <tr>\n",
       "      <th>...</th>\n",
       "      <td>...</td>\n",
       "      <td>...</td>\n",
       "      <td>...</td>\n",
       "    </tr>\n",
       "    <tr>\n",
       "      <th>45935</th>\n",
       "      <td>Old Crow RCS YT CAN</td>\n",
       "      <td>['-139.8400', '67.57000', '251.2']</td>\n",
       "      <td>https://climate.onebuilding.org/WMO_Region_4_North_and_Central_America/CAN_Canada/YT_Yukon/CAN_YT_Old.Crow.RCS.710440_CWEC2020.zip</td>\n",
       "    </tr>\n",
       "    <tr>\n",
       "      <th>45936</th>\n",
       "      <td>Rock River YT CAN</td>\n",
       "      <td>['-136.2200', '66.98000', '731.0']</td>\n",
       "      <td>https://climate.onebuilding.org/WMO_Region_4_North_and_Central_America/CAN_Canada/YT_Yukon/CAN_YT_Rock.River.715060_CWEC2020.zip</td>\n",
       "    </tr>\n",
       "    <tr>\n",
       "      <th>45937</th>\n",
       "      <td>Teslin AUT YT CAN</td>\n",
       "      <td>['-132.7300', '60.17000', '705.0']</td>\n",
       "      <td>https://climate.onebuilding.org/WMO_Region_4_North_and_Central_America/CAN_Canada/YT_Yukon/CAN_YT_Teslin.AUT.710450_CWEC2020.zip</td>\n",
       "    </tr>\n",
       "    <tr>\n",
       "      <th>45938</th>\n",
       "      <td>Watson Lake AP YT CAN</td>\n",
       "      <td>['-128.8200', '60.12000', '687.3']</td>\n",
       "      <td>https://climate.onebuilding.org/WMO_Region_4_North_and_Central_America/CAN_Canada/YT_Yukon/CAN_YT_Watson.Lake.AP.711990_CWEC2020.zip</td>\n",
       "    </tr>\n",
       "    <tr>\n",
       "      <th>45939</th>\n",
       "      <td>Whitehorse AP YT CAN</td>\n",
       "      <td>['-135.0700', '60.71000', '706.2']</td>\n",
       "      <td>https://climate.onebuilding.org/WMO_Region_4_North_and_Central_America/CAN_Canada/YT_Yukon/CAN_YT_Whitehorse.AP.719640_CWEC2020.zip</td>\n",
       "    </tr>\n",
       "  </tbody>\n",
       "</table>\n",
       "<p>45940 rows × 3 columns</p>\n",
       "</div>"
      ],
      "text/plain": [
       "                                                 Location Name  \\\n",
       "0      Vernadsky.Research.Base-Argentine.Islands GBR ATA         \n",
       "1      Esperanza.Base-Hope.Bay ARG ATA                           \n",
       "2      Esperanza.Base-Hope.Bay ARG ATA                           \n",
       "3      Esperanza.Base-Hope.Bay ARG ATA                           \n",
       "4      Orcadas.Base-Laurie.Island-South.Orkney.Islands ARG ATA   \n",
       "...                                                        ...   \n",
       "45935  Old Crow RCS YT CAN                                       \n",
       "45936  Rock River YT CAN                                         \n",
       "45937  Teslin AUT YT CAN                                         \n",
       "45938  Watson Lake AP YT CAN                                     \n",
       "45939  Whitehorse AP YT CAN                                      \n",
       "\n",
       "                              Coordinates  \\\n",
       "0      ['-64.26700', '-65.25000', '9.0']    \n",
       "1      ['-56.99730', '-63.39810', '3.0']    \n",
       "2      ['-56.99730', '-63.39810', '3.0']    \n",
       "3      ['-56.99730', '-63.39810', '3.0']    \n",
       "4      ['-44.73300', '-60.73300', '8.0']    \n",
       "...                                  ...    \n",
       "45935  ['-139.8400', '67.57000', '251.2']   \n",
       "45936  ['-136.2200', '66.98000', '731.0']   \n",
       "45937  ['-132.7300', '60.17000', '705.0']   \n",
       "45938  ['-128.8200', '60.12000', '687.3']   \n",
       "45939  ['-135.0700', '60.71000', '706.2']   \n",
       "\n",
       "                                                                                                                                                  URL for files  \n",
       "0      https://climate.onebuilding.org/WMO_Region_7_Antarctica/ATA_Antarctica/ATA_GBR_Vernadsky.Research.Base-Argentine.Islands.889520_TMYx.zip                  \n",
       "1      https://climate.onebuilding.org/WMO_Region_7_Antarctica/ATA_Antarctica/ATA_ARG_Esperanza.Base-Hope.Bay.889630_TMYx.2004-2018.zip                          \n",
       "2      https://climate.onebuilding.org/WMO_Region_7_Antarctica/ATA_Antarctica/ATA_ARG_Esperanza.Base-Hope.Bay.889630_TMYx.2007-2021.zip                          \n",
       "3      https://climate.onebuilding.org/WMO_Region_7_Antarctica/ATA_Antarctica/ATA_ARG_Esperanza.Base-Hope.Bay.889630_TMYx.zip                                    \n",
       "4      https://climate.onebuilding.org/WMO_Region_7_Antarctica/ATA_Antarctica/ATA_ARG_Orcadas.Base-Laurie.Island-South.Orkney.Islands.889680_TMYx.2004-2018.zip  \n",
       "...                                                                                                                                                         ...  \n",
       "45935  https://climate.onebuilding.org/WMO_Region_4_North_and_Central_America/CAN_Canada/YT_Yukon/CAN_YT_Old.Crow.RCS.710440_CWEC2020.zip                        \n",
       "45936  https://climate.onebuilding.org/WMO_Region_4_North_and_Central_America/CAN_Canada/YT_Yukon/CAN_YT_Rock.River.715060_CWEC2020.zip                          \n",
       "45937  https://climate.onebuilding.org/WMO_Region_4_North_and_Central_America/CAN_Canada/YT_Yukon/CAN_YT_Teslin.AUT.710450_CWEC2020.zip                          \n",
       "45938  https://climate.onebuilding.org/WMO_Region_4_North_and_Central_America/CAN_Canada/YT_Yukon/CAN_YT_Watson.Lake.AP.711990_CWEC2020.zip                      \n",
       "45939  https://climate.onebuilding.org/WMO_Region_4_North_and_Central_America/CAN_Canada/YT_Yukon/CAN_YT_Whitehorse.AP.719640_CWEC2020.zip                       \n",
       "\n",
       "[45940 rows x 3 columns]"
      ]
     },
     "execution_count": 2,
     "metadata": {},
     "output_type": "execute_result"
    }
   ],
   "source": [
    "df = pd.read_csv('AllRegion_EPWLinks.csv', index_col=0) \n",
    "df"
   ]
  },
  {
   "cell_type": "code",
   "execution_count": 3,
   "id": "04321cb7",
   "metadata": {},
   "outputs": [
    {
     "data": {
      "text/plain": [
       "0        ATA_GBR_Vernadsky.Research.Base-Argentine.Islands.889520_TMYx.zip                \n",
       "1        ATA_ARG_Esperanza.Base-Hope.Bay.889630_TMYx.2004-2018.zip                        \n",
       "2        ATA_ARG_Esperanza.Base-Hope.Bay.889630_TMYx.2007-2021.zip                        \n",
       "3        ATA_ARG_Esperanza.Base-Hope.Bay.889630_TMYx.zip                                  \n",
       "4        ATA_ARG_Orcadas.Base-Laurie.Island-South.Orkney.Islands.889680_TMYx.2004-2018.zip\n",
       "                                               ...                                        \n",
       "45935    CAN_YT_Old.Crow.RCS.710440_CWEC2020.zip                                          \n",
       "45936    CAN_YT_Rock.River.715060_CWEC2020.zip                                            \n",
       "45937    CAN_YT_Teslin.AUT.710450_CWEC2020.zip                                            \n",
       "45938    CAN_YT_Watson.Lake.AP.711990_CWEC2020.zip                                        \n",
       "45939    CAN_YT_Whitehorse.AP.719640_CWEC2020.zip                                         \n",
       "Name: zip, Length: 45940, dtype: object"
      ]
     },
     "execution_count": 3,
     "metadata": {},
     "output_type": "execute_result"
    }
   ],
   "source": [
    "df['zip'] = df['URL for files'].str.split('/').str[-1]\n",
    "df['zip']"
   ]
  },
  {
   "cell_type": "code",
   "execution_count": 4,
   "id": "5e599350",
   "metadata": {
    "scrolled": false
   },
   "outputs": [],
   "source": [
    "#df['zip'].str.findall(r'[a-zA-Z0-9]{1}[a-zA-Z0-9]{1}[a-zA-Z0-9]{1}[0-9]{3}')\n",
    "#extract(r\"(\\d{6})\")\n",
    "#.findall(r\"\\D(\\d{6})\\D\")\n",
    "#(r'^(?=.*\\d)[a-zA-Z\\d]{6}$')"
   ]
  },
  {
   "cell_type": "code",
   "execution_count": 5,
   "id": "ec454ac6",
   "metadata": {
    "scrolled": true
   },
   "outputs": [
    {
     "data": {
      "text/plain": [
       "0        889520\n",
       "1        889630\n",
       "2        889630\n",
       "3        889630\n",
       "4        889680\n",
       "          ...  \n",
       "45935    710440\n",
       "45936    715060\n",
       "45937    710450\n",
       "45938    711990\n",
       "45939    719640\n",
       "Name: WMO, Length: 45940, dtype: object"
      ]
     },
     "execution_count": 5,
     "metadata": {},
     "output_type": "execute_result"
    }
   ],
   "source": [
    "df['WMO'] = df['zip'].str.extract('(\\d+)')\n",
    "df['WMO']"
   ]
  },
  {
   "cell_type": "code",
   "execution_count": 127,
   "id": "98b66a0d",
   "metadata": {},
   "outputs": [
    {
     "data": {
      "text/plain": [
       "11"
      ]
     },
     "execution_count": 127,
     "metadata": {},
     "output_type": "execute_result"
    }
   ],
   "source": [
    "df['WMO'].isna().sum()"
   ]
  },
  {
   "cell_type": "code",
   "execution_count": 128,
   "id": "e1c0c5f9",
   "metadata": {},
   "outputs": [
    {
     "data": {
      "text/plain": [
       "count     45938\n",
       "unique    16166\n",
       "top       001  \n",
       "freq      20   \n",
       "Name: WMO, dtype: object"
      ]
     },
     "execution_count": 128,
     "metadata": {},
     "output_type": "execute_result"
    }
   ],
   "source": [
    "df['WMO'].describe()"
   ]
  },
  {
   "cell_type": "code",
   "execution_count": 129,
   "id": "5b44c4e1",
   "metadata": {},
   "outputs": [
    {
     "data": {
      "text/html": [
       "<div>\n",
       "<style scoped>\n",
       "    .dataframe tbody tr th:only-of-type {\n",
       "        vertical-align: middle;\n",
       "    }\n",
       "\n",
       "    .dataframe tbody tr th {\n",
       "        vertical-align: top;\n",
       "    }\n",
       "\n",
       "    .dataframe thead th {\n",
       "        text-align: right;\n",
       "    }\n",
       "</style>\n",
       "<table border=\"1\" class=\"dataframe\">\n",
       "  <thead>\n",
       "    <tr style=\"text-align: right;\">\n",
       "      <th></th>\n",
       "      <th>Location Name</th>\n",
       "      <th>Coordinates</th>\n",
       "      <th>URL for files</th>\n",
       "      <th>zip</th>\n",
       "      <th>WMO</th>\n",
       "    </tr>\n",
       "  </thead>\n",
       "  <tbody>\n",
       "    <tr>\n",
       "      <th>5676.0</th>\n",
       "      <td>Uqlat.Al.Suq0r.Met.Stn QS SAU</td>\n",
       "      <td>['42.25000', '25.83333', '783.0']</td>\n",
       "      <td>https://climate.onebuilding.org/WMO_Region_2_Asia/SAU_Saudi_Arabia/QS_Qassim/SAU_QS_Uqlat.Al.Suq0r.Met.Stn.404320_TMYx.zip</td>\n",
       "      <td>SAU_QS_Uqlat.Al.Suq0r.Met.Stn.404320_TMYx.zip</td>\n",
       "      <td>0</td>\n",
       "    </tr>\n",
       "    <tr>\n",
       "      <th>7915.0</th>\n",
       "      <td>Everett.Stewart.Rgnl.AP TN USA</td>\n",
       "      <td>['-88.98500', '36.38000', '103.9']</td>\n",
       "      <td>https://climate.onebuilding.org/WMO_Region_4_North_and_Central_America/USA_United_States_of_America/TN_Tennessee/USA_TN_Everett.Stewart.Rgnl.AP.A00029_TMYx.2007-2021.zip</td>\n",
       "      <td>USA_TN_Everett.Stewart.Rgnl.AP.A00029_TMYx.2007-2021.zip</td>\n",
       "      <td>00029</td>\n",
       "    </tr>\n",
       "    <tr>\n",
       "      <th>7916.0</th>\n",
       "      <td>Everett.Stewart.Rgnl.AP TN USA</td>\n",
       "      <td>['-88.98500', '36.38000', '103.9']</td>\n",
       "      <td>https://climate.onebuilding.org/WMO_Region_4_North_and_Central_America/USA_United_States_of_America/TN_Tennessee/USA_TN_Everett.Stewart.Rgnl.AP.A00029_TMYx.zip</td>\n",
       "      <td>USA_TN_Everett.Stewart.Rgnl.AP.A00029_TMYx.zip</td>\n",
       "      <td>00029</td>\n",
       "    </tr>\n",
       "    <tr>\n",
       "      <th>2494.0</th>\n",
       "      <td>Kuujjuarapik.AP QC CAN</td>\n",
       "      <td>['-77.75000', '55.28300', '10.0']</td>\n",
       "      <td>https://climate.onebuilding.org/WMO_Region_4_North_and_Central_America/CAN_Canada/QC_Quebec/CAN_QC_Kuujjuarapik.AP.CAN001_TMYx.2004-2018.zip</td>\n",
       "      <td>CAN_QC_Kuujjuarapik.AP.CAN001_TMYx.2004-2018.zip</td>\n",
       "      <td>001</td>\n",
       "    </tr>\n",
       "    <tr>\n",
       "      <th>2495.0</th>\n",
       "      <td>Kuujjuarapik.AP QC CAN</td>\n",
       "      <td>['-77.75000', '55.28300', '10.0']</td>\n",
       "      <td>https://climate.onebuilding.org/WMO_Region_4_North_and_Central_America/CAN_Canada/QC_Quebec/CAN_QC_Kuujjuarapik.AP.CAN001_TMYx.2007-2021.zip</td>\n",
       "      <td>CAN_QC_Kuujjuarapik.AP.CAN001_TMYx.2007-2021.zip</td>\n",
       "      <td>001</td>\n",
       "    </tr>\n",
       "    <tr>\n",
       "      <th>...</th>\n",
       "      <td>...</td>\n",
       "      <td>...</td>\n",
       "      <td>...</td>\n",
       "      <td>...</td>\n",
       "      <td>...</td>\n",
       "    </tr>\n",
       "    <tr>\n",
       "      <th>NaN</th>\n",
       "      <td>Location Name</td>\n",
       "      <td>Coordinates</td>\n",
       "      <td>URL for files</td>\n",
       "      <td>URL for files</td>\n",
       "      <td>NaN</td>\n",
       "    </tr>\n",
       "    <tr>\n",
       "      <th>NaN</th>\n",
       "      <td>Location Name</td>\n",
       "      <td>Coordinates</td>\n",
       "      <td>URL for files</td>\n",
       "      <td>URL for files</td>\n",
       "      <td>NaN</td>\n",
       "    </tr>\n",
       "    <tr>\n",
       "      <th>NaN</th>\n",
       "      <td>Location Name</td>\n",
       "      <td>Coordinates</td>\n",
       "      <td>URL for files</td>\n",
       "      <td>URL for files</td>\n",
       "      <td>NaN</td>\n",
       "    </tr>\n",
       "    <tr>\n",
       "      <th>NaN</th>\n",
       "      <td>Location Name</td>\n",
       "      <td>Coordinates</td>\n",
       "      <td>URL for files</td>\n",
       "      <td>URL for files</td>\n",
       "      <td>NaN</td>\n",
       "    </tr>\n",
       "    <tr>\n",
       "      <th>7144.0</th>\n",
       "      <td>Tabriz Intl AP Azarbayjan-e Sharqi IRN</td>\n",
       "      <td>['46.23500', '38.13389', '1361.0']</td>\n",
       "      <td>https://climate.onebuilding.org/WMO_Region_2_Asia/IRN_Iran/EA_East</td>\n",
       "      <td>EA_East</td>\n",
       "      <td>NaN</td>\n",
       "    </tr>\n",
       "  </tbody>\n",
       "</table>\n",
       "<p>45949 rows × 5 columns</p>\n",
       "</div>"
      ],
      "text/plain": [
       "                                 Location Name  \\\n",
       "5676.0  Uqlat.Al.Suq0r.Met.Stn QS SAU            \n",
       "7915.0  Everett.Stewart.Rgnl.AP TN USA           \n",
       "7916.0  Everett.Stewart.Rgnl.AP TN USA           \n",
       "2494.0  Kuujjuarapik.AP QC CAN                   \n",
       "2495.0  Kuujjuarapik.AP QC CAN                   \n",
       "...                        ...                   \n",
       "NaN     Location Name                            \n",
       "NaN     Location Name                            \n",
       "NaN     Location Name                            \n",
       "NaN     Location Name                            \n",
       "7144.0  Tabriz Intl AP Azarbayjan-e Sharqi IRN   \n",
       "\n",
       "                               Coordinates  \\\n",
       "5676.0  ['42.25000', '25.83333', '783.0']    \n",
       "7915.0  ['-88.98500', '36.38000', '103.9']   \n",
       "7916.0  ['-88.98500', '36.38000', '103.9']   \n",
       "2494.0  ['-77.75000', '55.28300', '10.0']    \n",
       "2495.0  ['-77.75000', '55.28300', '10.0']    \n",
       "...                                   ...    \n",
       "NaN     Coordinates                          \n",
       "NaN     Coordinates                          \n",
       "NaN     Coordinates                          \n",
       "NaN     Coordinates                          \n",
       "7144.0  ['46.23500', '38.13389', '1361.0']   \n",
       "\n",
       "                                                                                                                                                                    URL for files  \\\n",
       "5676.0  https://climate.onebuilding.org/WMO_Region_2_Asia/SAU_Saudi_Arabia/QS_Qassim/SAU_QS_Uqlat.Al.Suq0r.Met.Stn.404320_TMYx.zip                                                  \n",
       "7915.0  https://climate.onebuilding.org/WMO_Region_4_North_and_Central_America/USA_United_States_of_America/TN_Tennessee/USA_TN_Everett.Stewart.Rgnl.AP.A00029_TMYx.2007-2021.zip   \n",
       "7916.0  https://climate.onebuilding.org/WMO_Region_4_North_and_Central_America/USA_United_States_of_America/TN_Tennessee/USA_TN_Everett.Stewart.Rgnl.AP.A00029_TMYx.zip             \n",
       "2494.0  https://climate.onebuilding.org/WMO_Region_4_North_and_Central_America/CAN_Canada/QC_Quebec/CAN_QC_Kuujjuarapik.AP.CAN001_TMYx.2004-2018.zip                                \n",
       "2495.0  https://climate.onebuilding.org/WMO_Region_4_North_and_Central_America/CAN_Canada/QC_Quebec/CAN_QC_Kuujjuarapik.AP.CAN001_TMYx.2007-2021.zip                                \n",
       "...                                                                                                                                              ...                                \n",
       "NaN     URL for files                                                                                                                                                               \n",
       "NaN     URL for files                                                                                                                                                               \n",
       "NaN     URL for files                                                                                                                                                               \n",
       "NaN     URL for files                                                                                                                                                               \n",
       "7144.0  https://climate.onebuilding.org/WMO_Region_2_Asia/IRN_Iran/EA_East                                                                                                          \n",
       "\n",
       "                                                             zip    WMO  \n",
       "5676.0  SAU_QS_Uqlat.Al.Suq0r.Met.Stn.404320_TMYx.zip             0      \n",
       "7915.0  USA_TN_Everett.Stewart.Rgnl.AP.A00029_TMYx.2007-2021.zip  00029  \n",
       "7916.0  USA_TN_Everett.Stewart.Rgnl.AP.A00029_TMYx.zip            00029  \n",
       "2494.0  CAN_QC_Kuujjuarapik.AP.CAN001_TMYx.2004-2018.zip          001    \n",
       "2495.0  CAN_QC_Kuujjuarapik.AP.CAN001_TMYx.2007-2021.zip          001    \n",
       "...                                                  ...          ...    \n",
       "NaN     URL for files                                             NaN    \n",
       "NaN     URL for files                                             NaN    \n",
       "NaN     URL for files                                             NaN    \n",
       "NaN     URL for files                                             NaN    \n",
       "7144.0  EA_East                                                   NaN    \n",
       "\n",
       "[45949 rows x 5 columns]"
      ]
     },
     "execution_count": 129,
     "metadata": {},
     "output_type": "execute_result"
    }
   ],
   "source": [
    "df= df.sort_values(by=['WMO'], ascending=True)\n",
    "df"
   ]
  },
  {
   "cell_type": "code",
   "execution_count": 131,
   "id": "01b11f20",
   "metadata": {},
   "outputs": [
    {
     "data": {
      "text/plain": [
       "11"
      ]
     },
     "execution_count": 131,
     "metadata": {},
     "output_type": "execute_result"
    }
   ],
   "source": [
    "df['WMO'].isna().sum()"
   ]
  },
  {
   "cell_type": "code",
   "execution_count": 132,
   "id": "10d97d74",
   "metadata": {},
   "outputs": [],
   "source": [
    "df['WMO'] = df['WMO'].fillna(0)"
   ]
  },
  {
   "cell_type": "code",
   "execution_count": 133,
   "id": "1c9590e8",
   "metadata": {},
   "outputs": [
    {
     "data": {
      "text/plain": [
       "0"
      ]
     },
     "execution_count": 133,
     "metadata": {},
     "output_type": "execute_result"
    }
   ],
   "source": [
    "df['WMO'].isna().sum()"
   ]
  },
  {
   "cell_type": "code",
   "execution_count": 134,
   "id": "b42d3fd9",
   "metadata": {
    "scrolled": false
   },
   "outputs": [
    {
     "data": {
      "text/plain": [
       "5676.0    0\n",
       "7915.0    0\n",
       "7916.0    0\n",
       "2494.0    0\n",
       "2495.0    0\n",
       "         ..\n",
       "NaN       0\n",
       "NaN       0\n",
       "NaN       0\n",
       "NaN       0\n",
       "7144.0    0\n",
       "Name: Region_number, Length: 45949, dtype: int64"
      ]
     },
     "execution_count": 134,
     "metadata": {},
     "output_type": "execute_result"
    }
   ],
   "source": [
    "df['Region_number'] = df['WMO'].astype(str).str[:2]\n",
    "df['Region_number']= df['Region_number'].astype(str).astype(int)\n",
    "#if not 'na':\n",
    "#    df['Region_number']= df['Region_number'].astype(str).astype(int)\n",
    "#else:\n",
    "#    df['Region_number']= df['Region_number'].astype(str)\n",
    "\n",
    "#df['Region_number'].unique()\n",
    "df['Region_number']"
   ]
  },
  {
   "cell_type": "code",
   "execution_count": 135,
   "id": "f6773ed0",
   "metadata": {},
   "outputs": [
    {
     "data": {
      "text/html": [
       "<div>\n",
       "<style scoped>\n",
       "    .dataframe tbody tr th:only-of-type {\n",
       "        vertical-align: middle;\n",
       "    }\n",
       "\n",
       "    .dataframe tbody tr th {\n",
       "        vertical-align: top;\n",
       "    }\n",
       "\n",
       "    .dataframe thead th {\n",
       "        text-align: right;\n",
       "    }\n",
       "</style>\n",
       "<table border=\"1\" class=\"dataframe\">\n",
       "  <thead>\n",
       "    <tr style=\"text-align: right;\">\n",
       "      <th></th>\n",
       "      <th>Location Name</th>\n",
       "      <th>Coordinates</th>\n",
       "      <th>URL for files</th>\n",
       "      <th>zip</th>\n",
       "      <th>WMO</th>\n",
       "      <th>Region_number</th>\n",
       "      <th>Region</th>\n",
       "    </tr>\n",
       "  </thead>\n",
       "  <tbody>\n",
       "    <tr>\n",
       "      <th>5676.0</th>\n",
       "      <td>Uqlat.Al.Suq0r.Met.Stn QS SAU</td>\n",
       "      <td>['42.25000', '25.83333', '783.0']</td>\n",
       "      <td>https://climate.onebuilding.org/WMO_Region_2_Asia/SAU_Saudi_Arabia/QS_Qassim/SAU_QS_Uqlat.Al.Suq0r.Met.Stn.404320_TMYx.zip</td>\n",
       "      <td>SAU_QS_Uqlat.Al.Suq0r.Met.Stn.404320_TMYx.zip</td>\n",
       "      <td>0</td>\n",
       "      <td>0</td>\n",
       "      <td>NaN</td>\n",
       "    </tr>\n",
       "    <tr>\n",
       "      <th>7915.0</th>\n",
       "      <td>Everett.Stewart.Rgnl.AP TN USA</td>\n",
       "      <td>['-88.98500', '36.38000', '103.9']</td>\n",
       "      <td>https://climate.onebuilding.org/WMO_Region_4_North_and_Central_America/USA_United_States_of_America/TN_Tennessee/USA_TN_Everett.Stewart.Rgnl.AP.A00029_TMYx.2007-2021.zip</td>\n",
       "      <td>USA_TN_Everett.Stewart.Rgnl.AP.A00029_TMYx.2007-2021.zip</td>\n",
       "      <td>00029</td>\n",
       "      <td>0</td>\n",
       "      <td>NaN</td>\n",
       "    </tr>\n",
       "    <tr>\n",
       "      <th>7916.0</th>\n",
       "      <td>Everett.Stewart.Rgnl.AP TN USA</td>\n",
       "      <td>['-88.98500', '36.38000', '103.9']</td>\n",
       "      <td>https://climate.onebuilding.org/WMO_Region_4_North_and_Central_America/USA_United_States_of_America/TN_Tennessee/USA_TN_Everett.Stewart.Rgnl.AP.A00029_TMYx.zip</td>\n",
       "      <td>USA_TN_Everett.Stewart.Rgnl.AP.A00029_TMYx.zip</td>\n",
       "      <td>00029</td>\n",
       "      <td>0</td>\n",
       "      <td>NaN</td>\n",
       "    </tr>\n",
       "    <tr>\n",
       "      <th>2494.0</th>\n",
       "      <td>Kuujjuarapik.AP QC CAN</td>\n",
       "      <td>['-77.75000', '55.28300', '10.0']</td>\n",
       "      <td>https://climate.onebuilding.org/WMO_Region_4_North_and_Central_America/CAN_Canada/QC_Quebec/CAN_QC_Kuujjuarapik.AP.CAN001_TMYx.2004-2018.zip</td>\n",
       "      <td>CAN_QC_Kuujjuarapik.AP.CAN001_TMYx.2004-2018.zip</td>\n",
       "      <td>001</td>\n",
       "      <td>0</td>\n",
       "      <td>NaN</td>\n",
       "    </tr>\n",
       "    <tr>\n",
       "      <th>2495.0</th>\n",
       "      <td>Kuujjuarapik.AP QC CAN</td>\n",
       "      <td>['-77.75000', '55.28300', '10.0']</td>\n",
       "      <td>https://climate.onebuilding.org/WMO_Region_4_North_and_Central_America/CAN_Canada/QC_Quebec/CAN_QC_Kuujjuarapik.AP.CAN001_TMYx.2007-2021.zip</td>\n",
       "      <td>CAN_QC_Kuujjuarapik.AP.CAN001_TMYx.2007-2021.zip</td>\n",
       "      <td>001</td>\n",
       "      <td>0</td>\n",
       "      <td>NaN</td>\n",
       "    </tr>\n",
       "    <tr>\n",
       "      <th>...</th>\n",
       "      <td>...</td>\n",
       "      <td>...</td>\n",
       "      <td>...</td>\n",
       "      <td>...</td>\n",
       "      <td>...</td>\n",
       "      <td>...</td>\n",
       "      <td>...</td>\n",
       "    </tr>\n",
       "    <tr>\n",
       "      <th>NaN</th>\n",
       "      <td>Location Name</td>\n",
       "      <td>Coordinates</td>\n",
       "      <td>URL for files</td>\n",
       "      <td>URL for files</td>\n",
       "      <td>0</td>\n",
       "      <td>0</td>\n",
       "      <td>NaN</td>\n",
       "    </tr>\n",
       "    <tr>\n",
       "      <th>NaN</th>\n",
       "      <td>Location Name</td>\n",
       "      <td>Coordinates</td>\n",
       "      <td>URL for files</td>\n",
       "      <td>URL for files</td>\n",
       "      <td>0</td>\n",
       "      <td>0</td>\n",
       "      <td>NaN</td>\n",
       "    </tr>\n",
       "    <tr>\n",
       "      <th>NaN</th>\n",
       "      <td>Location Name</td>\n",
       "      <td>Coordinates</td>\n",
       "      <td>URL for files</td>\n",
       "      <td>URL for files</td>\n",
       "      <td>0</td>\n",
       "      <td>0</td>\n",
       "      <td>NaN</td>\n",
       "    </tr>\n",
       "    <tr>\n",
       "      <th>NaN</th>\n",
       "      <td>Location Name</td>\n",
       "      <td>Coordinates</td>\n",
       "      <td>URL for files</td>\n",
       "      <td>URL for files</td>\n",
       "      <td>0</td>\n",
       "      <td>0</td>\n",
       "      <td>NaN</td>\n",
       "    </tr>\n",
       "    <tr>\n",
       "      <th>7144.0</th>\n",
       "      <td>Tabriz Intl AP Azarbayjan-e Sharqi IRN</td>\n",
       "      <td>['46.23500', '38.13389', '1361.0']</td>\n",
       "      <td>https://climate.onebuilding.org/WMO_Region_2_Asia/IRN_Iran/EA_East</td>\n",
       "      <td>EA_East</td>\n",
       "      <td>0</td>\n",
       "      <td>0</td>\n",
       "      <td>NaN</td>\n",
       "    </tr>\n",
       "  </tbody>\n",
       "</table>\n",
       "<p>45949 rows × 7 columns</p>\n",
       "</div>"
      ],
      "text/plain": [
       "                                 Location Name  \\\n",
       "5676.0  Uqlat.Al.Suq0r.Met.Stn QS SAU            \n",
       "7915.0  Everett.Stewart.Rgnl.AP TN USA           \n",
       "7916.0  Everett.Stewart.Rgnl.AP TN USA           \n",
       "2494.0  Kuujjuarapik.AP QC CAN                   \n",
       "2495.0  Kuujjuarapik.AP QC CAN                   \n",
       "...                        ...                   \n",
       "NaN     Location Name                            \n",
       "NaN     Location Name                            \n",
       "NaN     Location Name                            \n",
       "NaN     Location Name                            \n",
       "7144.0  Tabriz Intl AP Azarbayjan-e Sharqi IRN   \n",
       "\n",
       "                               Coordinates  \\\n",
       "5676.0  ['42.25000', '25.83333', '783.0']    \n",
       "7915.0  ['-88.98500', '36.38000', '103.9']   \n",
       "7916.0  ['-88.98500', '36.38000', '103.9']   \n",
       "2494.0  ['-77.75000', '55.28300', '10.0']    \n",
       "2495.0  ['-77.75000', '55.28300', '10.0']    \n",
       "...                                   ...    \n",
       "NaN     Coordinates                          \n",
       "NaN     Coordinates                          \n",
       "NaN     Coordinates                          \n",
       "NaN     Coordinates                          \n",
       "7144.0  ['46.23500', '38.13389', '1361.0']   \n",
       "\n",
       "                                                                                                                                                                    URL for files  \\\n",
       "5676.0  https://climate.onebuilding.org/WMO_Region_2_Asia/SAU_Saudi_Arabia/QS_Qassim/SAU_QS_Uqlat.Al.Suq0r.Met.Stn.404320_TMYx.zip                                                  \n",
       "7915.0  https://climate.onebuilding.org/WMO_Region_4_North_and_Central_America/USA_United_States_of_America/TN_Tennessee/USA_TN_Everett.Stewart.Rgnl.AP.A00029_TMYx.2007-2021.zip   \n",
       "7916.0  https://climate.onebuilding.org/WMO_Region_4_North_and_Central_America/USA_United_States_of_America/TN_Tennessee/USA_TN_Everett.Stewart.Rgnl.AP.A00029_TMYx.zip             \n",
       "2494.0  https://climate.onebuilding.org/WMO_Region_4_North_and_Central_America/CAN_Canada/QC_Quebec/CAN_QC_Kuujjuarapik.AP.CAN001_TMYx.2004-2018.zip                                \n",
       "2495.0  https://climate.onebuilding.org/WMO_Region_4_North_and_Central_America/CAN_Canada/QC_Quebec/CAN_QC_Kuujjuarapik.AP.CAN001_TMYx.2007-2021.zip                                \n",
       "...                                                                                                                                              ...                                \n",
       "NaN     URL for files                                                                                                                                                               \n",
       "NaN     URL for files                                                                                                                                                               \n",
       "NaN     URL for files                                                                                                                                                               \n",
       "NaN     URL for files                                                                                                                                                               \n",
       "7144.0  https://climate.onebuilding.org/WMO_Region_2_Asia/IRN_Iran/EA_East                                                                                                          \n",
       "\n",
       "                                                             zip    WMO  \\\n",
       "5676.0  SAU_QS_Uqlat.Al.Suq0r.Met.Stn.404320_TMYx.zip             0       \n",
       "7915.0  USA_TN_Everett.Stewart.Rgnl.AP.A00029_TMYx.2007-2021.zip  00029   \n",
       "7916.0  USA_TN_Everett.Stewart.Rgnl.AP.A00029_TMYx.zip            00029   \n",
       "2494.0  CAN_QC_Kuujjuarapik.AP.CAN001_TMYx.2004-2018.zip          001     \n",
       "2495.0  CAN_QC_Kuujjuarapik.AP.CAN001_TMYx.2007-2021.zip          001     \n",
       "...                                                  ...          ...     \n",
       "NaN     URL for files                                             0       \n",
       "NaN     URL for files                                             0       \n",
       "NaN     URL for files                                             0       \n",
       "NaN     URL for files                                             0       \n",
       "7144.0  EA_East                                                   0       \n",
       "\n",
       "        Region_number Region  \n",
       "5676.0  0              NaN    \n",
       "7915.0  0              NaN    \n",
       "7916.0  0              NaN    \n",
       "2494.0  0              NaN    \n",
       "2495.0  0              NaN    \n",
       "...    ..              ...    \n",
       "NaN     0              NaN    \n",
       "NaN     0              NaN    \n",
       "NaN     0              NaN    \n",
       "NaN     0              NaN    \n",
       "7144.0  0              NaN    \n",
       "\n",
       "[45949 rows x 7 columns]"
      ]
     },
     "execution_count": 135,
     "metadata": {},
     "output_type": "execute_result"
    }
   ],
   "source": [
    "#The first two digits are referred to as the \"block number\" and refer to the geographic area \n",
    "#(00-29 Europe, 30-59 Asia, 60-68 Africa, 69 special use, 70-79 North America, 80-89 South America, 90-99 Oceania). \n",
    "#The last three digits are loosely referred to as the \"station number\".\n",
    "\n",
    "df[\"Region\"] = pd.cut(\n",
    "    x=df[\"Region_number\"],\n",
    "    bins=[0,10, 29, 59,68,69,79,89,99, np.inf],\n",
    "    labels=[\"None\",\"Europe\", \"Asia\", \"Africa\",\"special\",\"North America\",\"South America\",\"Oceania\",\"other\"],\n",
    ")\n",
    "\n",
    "df"
   ]
  },
  {
   "cell_type": "code",
   "execution_count": 39,
   "id": "aa49dfb1",
   "metadata": {},
   "outputs": [
    {
     "data": {
      "text/plain": [
       "0.0    TMYx\n",
       "1.0    2018\n",
       "2.0    2021\n",
       "3.0    TMYx\n",
       "4.0    TMYx\n",
       "Name: last_year, dtype: string"
      ]
     },
     "execution_count": 39,
     "metadata": {},
     "output_type": "execute_result"
    }
   ],
   "source": [
    "df['last_year'] = df['zip'].str.split('.').str[-2].str.split('-').str[-1]\n",
    "df['last_year'] = df['last_year'].astype('string')\n",
    "#df['last_year'] = df['last_year'].str.replace('TMYx','-')\n",
    "df['last_year'] = df['last_year'].str[-4:]\n",
    "\n",
    "df['last_year'].head()"
   ]
  },
  {
   "cell_type": "code",
   "execution_count": 40,
   "id": "c85f9c82",
   "metadata": {},
   "outputs": [
    {
     "data": {
      "text/html": [
       "<div>\n",
       "<style scoped>\n",
       "    .dataframe tbody tr th:only-of-type {\n",
       "        vertical-align: middle;\n",
       "    }\n",
       "\n",
       "    .dataframe tbody tr th {\n",
       "        vertical-align: top;\n",
       "    }\n",
       "\n",
       "    .dataframe thead th {\n",
       "        text-align: right;\n",
       "    }\n",
       "</style>\n",
       "<table border=\"1\" class=\"dataframe\">\n",
       "  <thead>\n",
       "    <tr style=\"text-align: right;\">\n",
       "      <th></th>\n",
       "      <th>Location Name</th>\n",
       "      <th>Coordinates</th>\n",
       "      <th>URL for files</th>\n",
       "      <th>zip</th>\n",
       "      <th>WMO</th>\n",
       "      <th>Region_number</th>\n",
       "      <th>Region</th>\n",
       "      <th>last_year</th>\n",
       "    </tr>\n",
       "  </thead>\n",
       "  <tbody>\n",
       "    <tr>\n",
       "      <th>0.0</th>\n",
       "      <td>Cape.Taputapu WT ASM</td>\n",
       "      <td>['-170.8304', '-14.32290', '117.0']</td>\n",
       "      <td>https://climate.onebuilding.org/WMO_Region_5_Southwest_Pacific/ASM_American_Samoa/ASM_WT_Cape.Taputapu.917640_TMYx.zip</td>\n",
       "      <td>ASM_WT_Cape.Taputapu.917640_TMYx.zip</td>\n",
       "      <td>917640</td>\n",
       "      <td>91</td>\n",
       "      <td>Oceania</td>\n",
       "      <td>TMYx</td>\n",
       "    </tr>\n",
       "    <tr>\n",
       "      <th>1.0</th>\n",
       "      <td>Tafuna-Pago.Pago.Intl.AP ET ASM</td>\n",
       "      <td>['-170.7140', '-14.33100', '3.7']</td>\n",
       "      <td>https://climate.onebuilding.org/WMO_Region_5_Southwest_Pacific/ASM_American_Samoa/ASM_ET_Tafuna-Pago.Pago.Intl.AP.917650_TMYx.2004-2018.zip</td>\n",
       "      <td>ASM_ET_Tafuna-Pago.Pago.Intl.AP.917650_TMYx.2004-2018.zip</td>\n",
       "      <td>917650</td>\n",
       "      <td>91</td>\n",
       "      <td>Oceania</td>\n",
       "      <td>2018</td>\n",
       "    </tr>\n",
       "    <tr>\n",
       "      <th>2.0</th>\n",
       "      <td>Tafuna-Pago.Pago.Intl.AP ET ASM</td>\n",
       "      <td>['-170.7140', '-14.33100', '3.7']</td>\n",
       "      <td>https://climate.onebuilding.org/WMO_Region_5_Southwest_Pacific/ASM_American_Samoa/ASM_ET_Tafuna-Pago.Pago.Intl.AP.917650_TMYx.2007-2021.zip</td>\n",
       "      <td>ASM_ET_Tafuna-Pago.Pago.Intl.AP.917650_TMYx.2007-2021.zip</td>\n",
       "      <td>917650</td>\n",
       "      <td>91</td>\n",
       "      <td>Oceania</td>\n",
       "      <td>2021</td>\n",
       "    </tr>\n",
       "    <tr>\n",
       "      <th>3.0</th>\n",
       "      <td>Tafuna-Pago.Pago.Intl.AP ET ASM</td>\n",
       "      <td>['-170.7140', '-14.33100', '3.7']</td>\n",
       "      <td>https://climate.onebuilding.org/WMO_Region_5_Southwest_Pacific/ASM_American_Samoa/ASM_ET_Tafuna-Pago.Pago.Intl.AP.917650_TMYx.zip</td>\n",
       "      <td>ASM_ET_Tafuna-Pago.Pago.Intl.AP.917650_TMYx.zip</td>\n",
       "      <td>917650</td>\n",
       "      <td>91</td>\n",
       "      <td>Oceania</td>\n",
       "      <td>TMYx</td>\n",
       "    </tr>\n",
       "    <tr>\n",
       "      <th>4.0</th>\n",
       "      <td>Cape.Matatula-NDACC.Stn ET ASM</td>\n",
       "      <td>['-170.5644', '-14.24730', '73.0']</td>\n",
       "      <td>https://climate.onebuilding.org/WMO_Region_5_Southwest_Pacific/ASM_American_Samoa/ASM_ET_Cape.Matatula-NDACC.Stn.917660_TMYx.zip</td>\n",
       "      <td>ASM_ET_Cape.Matatula-NDACC.Stn.917660_TMYx.zip</td>\n",
       "      <td>917660</td>\n",
       "      <td>91</td>\n",
       "      <td>Oceania</td>\n",
       "      <td>TMYx</td>\n",
       "    </tr>\n",
       "  </tbody>\n",
       "</table>\n",
       "</div>"
      ],
      "text/plain": [
       "                       Location Name                          Coordinates  \\\n",
       "0.0  Cape.Taputapu WT ASM             ['-170.8304', '-14.32290', '117.0']   \n",
       "1.0  Tafuna-Pago.Pago.Intl.AP ET ASM  ['-170.7140', '-14.33100', '3.7']     \n",
       "2.0  Tafuna-Pago.Pago.Intl.AP ET ASM  ['-170.7140', '-14.33100', '3.7']     \n",
       "3.0  Tafuna-Pago.Pago.Intl.AP ET ASM  ['-170.7140', '-14.33100', '3.7']     \n",
       "4.0  Cape.Matatula-NDACC.Stn ET ASM   ['-170.5644', '-14.24730', '73.0']    \n",
       "\n",
       "                                                                                                                                   URL for files  \\\n",
       "0.0  https://climate.onebuilding.org/WMO_Region_5_Southwest_Pacific/ASM_American_Samoa/ASM_WT_Cape.Taputapu.917640_TMYx.zip                        \n",
       "1.0  https://climate.onebuilding.org/WMO_Region_5_Southwest_Pacific/ASM_American_Samoa/ASM_ET_Tafuna-Pago.Pago.Intl.AP.917650_TMYx.2004-2018.zip   \n",
       "2.0  https://climate.onebuilding.org/WMO_Region_5_Southwest_Pacific/ASM_American_Samoa/ASM_ET_Tafuna-Pago.Pago.Intl.AP.917650_TMYx.2007-2021.zip   \n",
       "3.0  https://climate.onebuilding.org/WMO_Region_5_Southwest_Pacific/ASM_American_Samoa/ASM_ET_Tafuna-Pago.Pago.Intl.AP.917650_TMYx.zip             \n",
       "4.0  https://climate.onebuilding.org/WMO_Region_5_Southwest_Pacific/ASM_American_Samoa/ASM_ET_Cape.Matatula-NDACC.Stn.917660_TMYx.zip              \n",
       "\n",
       "                                                           zip     WMO  \\\n",
       "0.0  ASM_WT_Cape.Taputapu.917640_TMYx.zip                       917640   \n",
       "1.0  ASM_ET_Tafuna-Pago.Pago.Intl.AP.917650_TMYx.2004-2018.zip  917650   \n",
       "2.0  ASM_ET_Tafuna-Pago.Pago.Intl.AP.917650_TMYx.2007-2021.zip  917650   \n",
       "3.0  ASM_ET_Tafuna-Pago.Pago.Intl.AP.917650_TMYx.zip            917650   \n",
       "4.0  ASM_ET_Cape.Matatula-NDACC.Stn.917660_TMYx.zip             917660   \n",
       "\n",
       "     Region_number   Region last_year  \n",
       "0.0  91             Oceania  TMYx      \n",
       "1.0  91             Oceania  2018      \n",
       "2.0  91             Oceania  2021      \n",
       "3.0  91             Oceania  TMYx      \n",
       "4.0  91             Oceania  TMYx      "
      ]
     },
     "execution_count": 40,
     "metadata": {},
     "output_type": "execute_result"
    }
   ],
   "source": [
    "df.head()"
   ]
  },
  {
   "cell_type": "code",
   "execution_count": 41,
   "id": "a40a37a3",
   "metadata": {
    "scrolled": true
   },
   "outputs": [
    {
     "ename": "TypeError",
     "evalue": "'<' not supported between instances of 'str' and 'int'",
     "output_type": "error",
     "traceback": [
      "\u001b[0;31m---------------------------------------------------------------------------\u001b[0m",
      "\u001b[0;31mTypeError\u001b[0m                                 Traceback (most recent call last)",
      "\u001b[0;32m/var/folders/mk/7yynft554x38v3t6f_65fkzc0000gn/T/ipykernel_47842/3924555858.py\u001b[0m in \u001b[0;36m<module>\u001b[0;34m\u001b[0m\n\u001b[0;32m----> 1\u001b[0;31m \u001b[0mdf\u001b[0m\u001b[0;34m=\u001b[0m \u001b[0mdf\u001b[0m\u001b[0;34m.\u001b[0m\u001b[0msort_values\u001b[0m\u001b[0;34m(\u001b[0m\u001b[0mby\u001b[0m\u001b[0;34m=\u001b[0m\u001b[0;34m[\u001b[0m\u001b[0;34m'WMO'\u001b[0m\u001b[0;34m]\u001b[0m\u001b[0;34m,\u001b[0m \u001b[0mascending\u001b[0m\u001b[0;34m=\u001b[0m\u001b[0;32mTrue\u001b[0m\u001b[0;34m)\u001b[0m\u001b[0;34m\u001b[0m\u001b[0;34m\u001b[0m\u001b[0m\n\u001b[0m\u001b[1;32m      2\u001b[0m \u001b[0mdf\u001b[0m\u001b[0;34m\u001b[0m\u001b[0;34m\u001b[0m\u001b[0m\n",
      "\u001b[0;32m~/opt/anaconda3/lib/python3.9/site-packages/pandas/util/_decorators.py\u001b[0m in \u001b[0;36mwrapper\u001b[0;34m(*args, **kwargs)\u001b[0m\n\u001b[1;32m    309\u001b[0m                     \u001b[0mstacklevel\u001b[0m\u001b[0;34m=\u001b[0m\u001b[0mstacklevel\u001b[0m\u001b[0;34m,\u001b[0m\u001b[0;34m\u001b[0m\u001b[0;34m\u001b[0m\u001b[0m\n\u001b[1;32m    310\u001b[0m                 )\n\u001b[0;32m--> 311\u001b[0;31m             \u001b[0;32mreturn\u001b[0m \u001b[0mfunc\u001b[0m\u001b[0;34m(\u001b[0m\u001b[0;34m*\u001b[0m\u001b[0margs\u001b[0m\u001b[0;34m,\u001b[0m \u001b[0;34m**\u001b[0m\u001b[0mkwargs\u001b[0m\u001b[0;34m)\u001b[0m\u001b[0;34m\u001b[0m\u001b[0;34m\u001b[0m\u001b[0m\n\u001b[0m\u001b[1;32m    312\u001b[0m \u001b[0;34m\u001b[0m\u001b[0m\n\u001b[1;32m    313\u001b[0m         \u001b[0;32mreturn\u001b[0m \u001b[0mwrapper\u001b[0m\u001b[0;34m\u001b[0m\u001b[0;34m\u001b[0m\u001b[0m\n",
      "\u001b[0;32m~/opt/anaconda3/lib/python3.9/site-packages/pandas/core/frame.py\u001b[0m in \u001b[0;36msort_values\u001b[0;34m(self, by, axis, ascending, inplace, kind, na_position, ignore_index, key)\u001b[0m\n\u001b[1;32m   6328\u001b[0m                 \u001b[0mascending\u001b[0m \u001b[0;34m=\u001b[0m \u001b[0mascending\u001b[0m\u001b[0;34m[\u001b[0m\u001b[0;36m0\u001b[0m\u001b[0;34m]\u001b[0m\u001b[0;34m\u001b[0m\u001b[0;34m\u001b[0m\u001b[0m\n\u001b[1;32m   6329\u001b[0m \u001b[0;34m\u001b[0m\u001b[0m\n\u001b[0;32m-> 6330\u001b[0;31m             indexer = nargsort(\n\u001b[0m\u001b[1;32m   6331\u001b[0m                 \u001b[0mk\u001b[0m\u001b[0;34m,\u001b[0m \u001b[0mkind\u001b[0m\u001b[0;34m=\u001b[0m\u001b[0mkind\u001b[0m\u001b[0;34m,\u001b[0m \u001b[0mascending\u001b[0m\u001b[0;34m=\u001b[0m\u001b[0mascending\u001b[0m\u001b[0;34m,\u001b[0m \u001b[0mna_position\u001b[0m\u001b[0;34m=\u001b[0m\u001b[0mna_position\u001b[0m\u001b[0;34m,\u001b[0m \u001b[0mkey\u001b[0m\u001b[0;34m=\u001b[0m\u001b[0mkey\u001b[0m\u001b[0;34m\u001b[0m\u001b[0;34m\u001b[0m\u001b[0m\n\u001b[1;32m   6332\u001b[0m             )\n",
      "\u001b[0;32m~/opt/anaconda3/lib/python3.9/site-packages/pandas/core/sorting.py\u001b[0m in \u001b[0;36mnargsort\u001b[0;34m(items, kind, ascending, na_position, key, mask)\u001b[0m\n\u001b[1;32m    415\u001b[0m         \u001b[0mnon_nans\u001b[0m \u001b[0;34m=\u001b[0m \u001b[0mnon_nans\u001b[0m\u001b[0;34m[\u001b[0m\u001b[0;34m:\u001b[0m\u001b[0;34m:\u001b[0m\u001b[0;34m-\u001b[0m\u001b[0;36m1\u001b[0m\u001b[0;34m]\u001b[0m\u001b[0;34m\u001b[0m\u001b[0;34m\u001b[0m\u001b[0m\n\u001b[1;32m    416\u001b[0m         \u001b[0mnon_nan_idx\u001b[0m \u001b[0;34m=\u001b[0m \u001b[0mnon_nan_idx\u001b[0m\u001b[0;34m[\u001b[0m\u001b[0;34m:\u001b[0m\u001b[0;34m:\u001b[0m\u001b[0;34m-\u001b[0m\u001b[0;36m1\u001b[0m\u001b[0;34m]\u001b[0m\u001b[0;34m\u001b[0m\u001b[0;34m\u001b[0m\u001b[0m\n\u001b[0;32m--> 417\u001b[0;31m     \u001b[0mindexer\u001b[0m \u001b[0;34m=\u001b[0m \u001b[0mnon_nan_idx\u001b[0m\u001b[0;34m[\u001b[0m\u001b[0mnon_nans\u001b[0m\u001b[0;34m.\u001b[0m\u001b[0margsort\u001b[0m\u001b[0;34m(\u001b[0m\u001b[0mkind\u001b[0m\u001b[0;34m=\u001b[0m\u001b[0mkind\u001b[0m\u001b[0;34m)\u001b[0m\u001b[0;34m]\u001b[0m\u001b[0;34m\u001b[0m\u001b[0;34m\u001b[0m\u001b[0m\n\u001b[0m\u001b[1;32m    418\u001b[0m     \u001b[0;32mif\u001b[0m \u001b[0;32mnot\u001b[0m \u001b[0mascending\u001b[0m\u001b[0;34m:\u001b[0m\u001b[0;34m\u001b[0m\u001b[0;34m\u001b[0m\u001b[0m\n\u001b[1;32m    419\u001b[0m         \u001b[0mindexer\u001b[0m \u001b[0;34m=\u001b[0m \u001b[0mindexer\u001b[0m\u001b[0;34m[\u001b[0m\u001b[0;34m:\u001b[0m\u001b[0;34m:\u001b[0m\u001b[0;34m-\u001b[0m\u001b[0;36m1\u001b[0m\u001b[0;34m]\u001b[0m\u001b[0;34m\u001b[0m\u001b[0;34m\u001b[0m\u001b[0m\n",
      "\u001b[0;31mTypeError\u001b[0m: '<' not supported between instances of 'str' and 'int'"
     ]
    }
   ],
   "source": []
  },
  {
   "cell_type": "code",
   "execution_count": null,
   "id": "aeee6d01",
   "metadata": {
    "scrolled": true
   },
   "outputs": [],
   "source": []
  },
  {
   "cell_type": "code",
   "execution_count": null,
   "id": "051bc1ed",
   "metadata": {},
   "outputs": [],
   "source": []
  },
  {
   "cell_type": "code",
   "execution_count": null,
   "id": "8f323e07",
   "metadata": {},
   "outputs": [],
   "source": [
    "filename = 'test_wmo.csv'\n",
    "export_csv = df.to_csv (filename, index = None, header=True) "
   ]
  },
  {
   "cell_type": "code",
   "execution_count": null,
   "id": "908668b4",
   "metadata": {
    "scrolled": true
   },
   "outputs": [],
   "source": [
    "#import DD data\n",
    "df_DD = pd.read_excel('Climate Data 2021_SI.xlsx', index_col=0) \n",
    "df_DD"
   ]
  },
  {
   "cell_type": "code",
   "execution_count": null,
   "id": "cf253173",
   "metadata": {},
   "outputs": [],
   "source": [
    "df_DD['WMO'].dtype"
   ]
  },
  {
   "cell_type": "code",
   "execution_count": null,
   "id": "50aea6c5",
   "metadata": {},
   "outputs": [],
   "source": [
    "df['WMO'].dtype"
   ]
  },
  {
   "cell_type": "code",
   "execution_count": null,
   "id": "bcb26523",
   "metadata": {
    "scrolled": true
   },
   "outputs": [],
   "source": [
    "df_new = df.merge(df_DD, how='inner', on='WMO')\n",
    "df_new"
   ]
  },
  {
   "cell_type": "code",
   "execution_count": null,
   "id": "d2d3c9da",
   "metadata": {},
   "outputs": [],
   "source": [
    "filename = 'LinksAndDD.csv'\n",
    "export_csv = df_new.to_csv (filename, index = None, header=True) "
   ]
  },
  {
   "cell_type": "code",
   "execution_count": null,
   "id": "62116f30",
   "metadata": {},
   "outputs": [],
   "source": [
    "#For testing\n",
    "#zip_file_url = df.iloc[0]['URL for files']\n",
    "#zip_file_url"
   ]
  },
  {
   "cell_type": "code",
   "execution_count": null,
   "id": "07a26dc2",
   "metadata": {},
   "outputs": [],
   "source": [
    "def download_file(url):\n",
    "    headers=   {\"Auth\": \"{abcd}\", \n",
    "                \"accept\": \"*/*\",               \n",
    "               \"accept-encoding\": \"gzip;deflate;br\" }\n",
    "    response = requests.request(\"GET\", url, headers = headers)\n",
    "    filename = os.getcwd()+'/downloads_EPW/'\n",
    "    #filename = os.getcwd()+'/test_epw/'\n",
    "    try:\n",
    "        with ZipFile(io.BytesIO(response.content)) as z:\n",
    "            print(\"zipfile is OK\")\n",
    "            #z = zipfile.ZipFile(io.BytesIO(response.content))\n",
    "            z_files = z.namelist()\n",
    "            #print(z_files)\n",
    "            extension = '.epw'\n",
    "            epw = [file for file in z_files if os.path.splitext(file)[1] == extension]\n",
    "            epwName= epw[0]\n",
    "            print(epwName)\n",
    "            z.extract(epw[0],filename)\n",
    "            #print(epw[0])\n",
    "            #print(filename)\n",
    "            #z.extractall(filename)\n",
    "    except BadZipfile:\n",
    "        print('Download did not work')\n",
    "        epwName = \"N/A\"\n",
    "    return response.status_code, epwName\n",
    "\n"
   ]
  },
  {
   "cell_type": "code",
   "execution_count": null,
   "id": "0b3d7ddd",
   "metadata": {},
   "outputs": [],
   "source": [
    "## Read in an EPW file to a Pandas dataframe\n",
    "def readEPW(path):\n",
    "    # Read the location\n",
    "    df = pd.read_csv(path, nrows=1, header=None,encoding_errors='ignore') # Read only the first row\n",
    "    latitude = df.iloc[0, 6]\n",
    "    longitude = df.iloc[0, 7]\n",
    "    timezone = df.iloc[0, 8]\n",
    "    \n",
    "    # Read the hourly data\n",
    "    df = pd.read_csv(path, skiprows=range(8), header=None,encoding_errors='ignore') # Read the file, skip the 8 header rows\n",
    "    # There are no column names in the file. We need to assign them.\n",
    "    df.columns = ['Year', 'Month', 'Day', 'Hour', 'Minute', 'Data Source and Uncertainty Flags',\n",
    "                  'Dry Bulb Temperature', 'Dew Point Temperature', 'Relative Humidity', 'Atmospheric Station Pressure',\n",
    "                  'Extraterrestrial Horizontal Radiation', 'Extraterrestrial Direct Normal Radiation', 'Horizontal Infrared Radiation Intensity',\n",
    "                  'Global Horizontal Radiation', 'Direct Normal Radiation', 'Diffuse Horizontal Radiation',\n",
    "                  'Global Horizontal Illuminance', 'Direct Normal Illuminance', 'Diffuse Horizontal Illuminance', 'Zenith Luminance',\n",
    "                  'Wind Direction', 'Wind Speed', 'Total Sky Cover', 'Opaque Sky Cover', 'Visibility', 'Ceiling Height',\n",
    "                  'Present Weather Observation', 'Present Weather Codes', 'Precipitable Water', 'Aerosol Optical Depth',\n",
    "                  'Snow Depth', 'Days Since Last Snowfall', 'Albedo', 'Liquid Precipitation Depth', 'Liquid Precipitation Quantity']\n",
    "    return df"
   ]
  },
  {
   "cell_type": "code",
   "execution_count": null,
   "id": "6686acd2",
   "metadata": {},
   "outputs": [],
   "source": [
    "## Read in an EPW file to a Pandas dataframe\n",
    "def readEPW_DesignDay(path):\n",
    "    # Read the location\n",
    "    df = pd.read_csv(path, nrows=1, header=None,encoding_errors='ignore') # Read only the first row\n",
    "    latitude = df.iloc[0, 6]\n",
    "    longitude = df.iloc[0, 7]\n",
    "    timezone = df.iloc[0, 8]\n",
    "    \n",
    "    # Read the hourly data\n",
    "    df = pd.read_csv(path, skiprows=range(8), header=None,encoding_errors='ignore') # Read the file, skip the 8 header rows\n",
    "    # There are no column names in the file. We need to assign them.\n",
    "    df.columns = ['Year', 'Month', 'Day', 'Hour', 'Minute', 'Data Source and Uncertainty Flags',\n",
    "                  'Dry Bulb Temperature', 'Dew Point Temperature', 'Relative Humidity', 'Atmospheric Station Pressure',\n",
    "                  'Extraterrestrial Horizontal Radiation', 'Extraterrestrial Direct Normal Radiation', 'Horizontal Infrared Radiation Intensity',\n",
    "                  'Global Horizontal Radiation', 'Direct Normal Radiation', 'Diffuse Horizontal Radiation',\n",
    "                  'Global Horizontal Illuminance', 'Direct Normal Illuminance', 'Diffuse Horizontal Illuminance', 'Zenith Luminance',\n",
    "                  'Wind Direction', 'Wind Speed', 'Total Sky Cover', 'Opaque Sky Cover', 'Visibility', 'Ceiling Height',\n",
    "                  'Present Weather Observation', 'Present Weather Codes', 'Precipitable Water', 'Aerosol Optical Depth',\n",
    "                  'Snow Depth', 'Days Since Last Snowfall', 'Albedo', 'Liquid Precipitation Depth', 'Liquid Precipitation Quantity']\n",
    "    \n",
    "    htg_996_epw= df['Dry Bulb Temperature'].quantile(q=0.004)\n",
    "    htg_990_epw= df['Dry Bulb Temperature'].quantile(q=0.010)\n",
    "    clg_004_epw= df['Dry Bulb Temperature'].quantile(q=0.996)\n",
    "    clg_010_epw= df['Dry Bulb Temperature'].quantile(q=0.99)\n",
    "    return htg_996_epw,htg_990_epw,clg_004_epw,clg_010_epw"
   ]
  },
  {
   "cell_type": "code",
   "execution_count": null,
   "id": "7be87dd1",
   "metadata": {
    "scrolled": true
   },
   "outputs": [],
   "source": [
    "df_summary = pd.read_csv('LinksAndDD.csv') \n",
    "df_summary"
   ]
  },
  {
   "cell_type": "code",
   "execution_count": null,
   "id": "aaab6506",
   "metadata": {
    "scrolled": true
   },
   "outputs": [],
   "source": [
    "#for testing\n",
    "#counter = 3771\n",
    "#for index in df_summary.index:\n",
    "#    if index > counter:\n",
    "#        print(index)\n",
    "#        print('yay '+df_summary.loc[index, 'Location Name']+' '+df_summary.loc[index,'URL for files'])\n",
    "#        continue"
   ]
  },
  {
   "cell_type": "code",
   "execution_count": null,
   "id": "e609b20c",
   "metadata": {
    "scrolled": true
   },
   "outputs": [],
   "source": [
    "s_htg_996_epw= []\n",
    "s_htg_990_epw= []\n",
    "s_clg_004_epw= []\n",
    "s_clg_010_epw= []\n",
    "\n",
    "counter =4799\n",
    "#counter =4775\n",
    "#for url in df_summary['URL for files']:\n",
    "for index in df_summary.index:\n",
    "    if index > counter:\n",
    "        #print(index)\n",
    "        print(counter)\n",
    "        counter=counter+1\n",
    "        url = df_summary.loc[index,'URL for files']\n",
    "        print(url)\n",
    "        status, epwpath = download_file(url)\n",
    "        print(status, epwpath)\n",
    "        if status ==  200:\n",
    "            htg_996,htg_990,clg_004,clg_010 = readEPW_DesignDay(path.join('downloads_EPW/',epwpath))\n",
    "            #print(htg_996,htg_990,clg_004,clg_010)\n",
    "            s_htg_996_epw.append(htg_996)\n",
    "            s_htg_990_epw.append(htg_990)\n",
    "            s_clg_004_epw.append(clg_004)\n",
    "            s_clg_010_epw.append(clg_010)\n",
    "            os.remove(path.join('downloads_EPW/',epwpath))\n",
    "        else:\n",
    "            s_htg_996_epw.append(\"N/A\")\n",
    "            s_htg_990_epw.append(\"N/A\")\n",
    "            s_clg_004_epw.append(\"N/A\")\n",
    "            s_clg_010_epw.append(\"N/A\")\n",
    "        continue"
   ]
  },
  {
   "cell_type": "code",
   "execution_count": null,
   "id": "12b6add0",
   "metadata": {
    "scrolled": true
   },
   "outputs": [],
   "source": [
    "#in case the above breaks\n",
    "results = pd.DataFrame()\n",
    "results['Heating DB 99.6% - EPW'] = pd.Series(s_htg_996_epw)\n",
    "results['Heating DB 99% - EPW'] = pd.Series(s_htg_990_epw)\n",
    "results['Cooling DB 0.4% - EPW'] = pd.Series(s_clg_004_epw)\n",
    "results['Cooling DB 1% - EPW'] = pd.Series(s_clg_010_epw)\n",
    "results[\"ID\"] = results.index +1\n",
    "results"
   ]
  },
  {
   "cell_type": "code",
   "execution_count": null,
   "id": "d3a20ce9",
   "metadata": {
    "scrolled": true
   },
   "outputs": [],
   "source": [
    "results_links = df_summary.iloc[4800:]\n",
    "#df_summary.loc[4800,'URL for files']\n",
    "results_links.reset_index(inplace=True)\n",
    "results_links[\"ID\"] = results_links.index +1\n",
    "results_links"
   ]
  },
  {
   "cell_type": "code",
   "execution_count": null,
   "id": "974d1447",
   "metadata": {
    "scrolled": true
   },
   "outputs": [],
   "source": [
    "df_merge = results_links.merge(results, how='inner', on=\"ID\")\n",
    "df_merge = df_merge.drop(columns=['index'])\n",
    "df_merge"
   ]
  },
  {
   "cell_type": "code",
   "execution_count": null,
   "id": "960defb4",
   "metadata": {},
   "outputs": [],
   "source": [
    "#df_summary['Heating DB 99.6% - EPW'] = s_htg_996_epw\n",
    "#df_summary['Heating DB 99% - EPW'] = s_htg_990_epw\n",
    "#df_summary['Cooling DB 0.4% - EPW'] = s_clg_004_epw\n",
    "#df_summary['Cooling DB 1% - EPW'] = s_clg_010_epw\n",
    "#df_summary"
   ]
  },
  {
   "cell_type": "code",
   "execution_count": null,
   "id": "eb28671f",
   "metadata": {},
   "outputs": [],
   "source": [
    "filename = 'Results_4800_end.csv'\n",
    "export_csv = df_merge.to_csv(filename, index = None, header=True) "
   ]
  },
  {
   "cell_type": "code",
   "execution_count": null,
   "id": "f640fc78",
   "metadata": {},
   "outputs": [],
   "source": [
    "outfilename = 'AllRegion_Results.csv'\n",
    "with open(outfilename, 'wb') as outfile:\n",
    "    for filename in glob.glob('Results_*.csv'):\n",
    "        print(filename)\n",
    "        if filename == outfilename:\n",
    "            # don't want to copy the output into the output\n",
    "            continue\n",
    "        with open(filename, 'rb') as readfile:\n",
    "            shutil.copyfileobj(readfile, outfile)"
   ]
  },
  {
   "cell_type": "code",
   "execution_count": null,
   "id": "48cfac03",
   "metadata": {
    "scrolled": false
   },
   "outputs": [],
   "source": [
    "df_epwDD = pd.read_csv('Results_3772_4800.csv') \n",
    "df_epwDD[\"ID\"] = df_epwDD.index +1\n",
    "df_epwDD"
   ]
  },
  {
   "cell_type": "code",
   "execution_count": null,
   "id": "70e6ade6",
   "metadata": {
    "scrolled": true
   },
   "outputs": [],
   "source": [
    "results_links = df_summary.iloc[3772:4800]\n",
    "#df_summary.loc[4800,'URL for files']\n",
    "results_links.reset_index(inplace=True)\n",
    "results_links[\"ID\"] = results_links.index +1\n",
    "results_links"
   ]
  },
  {
   "cell_type": "code",
   "execution_count": null,
   "id": "55d3ce12",
   "metadata": {
    "scrolled": true
   },
   "outputs": [],
   "source": [
    "df_merge = results_links.merge(df_epwDD, how='inner', on=\"ID\")\n",
    "df_merge = df_merge.drop(columns=['index'])\n",
    "df_merge"
   ]
  },
  {
   "cell_type": "code",
   "execution_count": null,
   "id": "fff8a034",
   "metadata": {},
   "outputs": [],
   "source": [
    "filename = 'Results_3772_4800.csv'\n",
    "export_csv = df_merge.to_csv(filename, index = None, header=True) "
   ]
  },
  {
   "cell_type": "code",
   "execution_count": null,
   "id": "431dfef8",
   "metadata": {},
   "outputs": [],
   "source": [
    "outfilename = 'AllRegion_Results.csv'\n",
    "with open(outfilename, 'wb') as outfile:\n",
    "    for filename in glob.glob('Results_*.csv'):\n",
    "        print(filename)\n",
    "        if filename == outfilename:\n",
    "            # don't want to copy the output into the output\n",
    "            continue\n",
    "        with open(filename, 'rb') as readfile:\n",
    "            shutil.copyfileobj(readfile, outfile)"
   ]
  },
  {
   "cell_type": "code",
   "execution_count": null,
   "id": "639a2608",
   "metadata": {
    "scrolled": true
   },
   "outputs": [],
   "source": [
    "df_all = pd.read_csv('AllRegion_Results.csv') \n",
    "#df_epwDD[\"ID\"] = df_epwDD.index +1\n",
    "df_all"
   ]
  },
  {
   "cell_type": "code",
   "execution_count": null,
   "id": "2a2ba66f",
   "metadata": {},
   "outputs": [],
   "source": []
  }
 ],
 "metadata": {
  "kernelspec": {
   "display_name": "Python 3 (ipykernel)",
   "language": "python",
   "name": "python3"
  },
  "language_info": {
   "codemirror_mode": {
    "name": "ipython",
    "version": 3
   },
   "file_extension": ".py",
   "mimetype": "text/x-python",
   "name": "python",
   "nbconvert_exporter": "python",
   "pygments_lexer": "ipython3",
   "version": "3.9.12"
  }
 },
 "nbformat": 4,
 "nbformat_minor": 5
}

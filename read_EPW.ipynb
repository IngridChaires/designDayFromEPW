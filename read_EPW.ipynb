{
 "cells": [
  {
   "cell_type": "code",
   "execution_count": 12,
   "id": "83c4a6e2",
   "metadata": {},
   "outputs": [],
   "source": [
    "import pandas as pd"
   ]
  },
  {
   "cell_type": "code",
   "execution_count": 13,
   "id": "45693399",
   "metadata": {
    "scrolled": true
   },
   "outputs": [
    {
     "data": {
      "text/html": [
       "<div>\n",
       "<style scoped>\n",
       "    .dataframe tbody tr th:only-of-type {\n",
       "        vertical-align: middle;\n",
       "    }\n",
       "\n",
       "    .dataframe tbody tr th {\n",
       "        vertical-align: top;\n",
       "    }\n",
       "\n",
       "    .dataframe thead th {\n",
       "        text-align: right;\n",
       "    }\n",
       "</style>\n",
       "<table border=\"1\" class=\"dataframe\">\n",
       "  <thead>\n",
       "    <tr style=\"text-align: right;\">\n",
       "      <th></th>\n",
       "      <th>0</th>\n",
       "      <th>1</th>\n",
       "      <th>2</th>\n",
       "      <th>3</th>\n",
       "      <th>4</th>\n",
       "      <th>5</th>\n",
       "      <th>6</th>\n",
       "      <th>7</th>\n",
       "      <th>8</th>\n",
       "      <th>9</th>\n",
       "      <th>...</th>\n",
       "      <th>25</th>\n",
       "      <th>26</th>\n",
       "      <th>27</th>\n",
       "      <th>28</th>\n",
       "      <th>29</th>\n",
       "      <th>30</th>\n",
       "      <th>31</th>\n",
       "      <th>32</th>\n",
       "      <th>33</th>\n",
       "      <th>34</th>\n",
       "    </tr>\n",
       "  </thead>\n",
       "  <tbody>\n",
       "    <tr>\n",
       "      <th>0</th>\n",
       "      <td>2021</td>\n",
       "      <td>1</td>\n",
       "      <td>1</td>\n",
       "      <td>1</td>\n",
       "      <td>0</td>\n",
       "      <td>?9?9?9?9E0?9?9?9?9?9?9?9?9?9?9?9*9?9*9*9?9*9</td>\n",
       "      <td>8.3</td>\n",
       "      <td>-3.9</td>\n",
       "      <td>40</td>\n",
       "      <td>94364</td>\n",
       "      <td>...</td>\n",
       "      <td>77777</td>\n",
       "      <td>9</td>\n",
       "      <td>999999999</td>\n",
       "      <td>6</td>\n",
       "      <td>0.085</td>\n",
       "      <td>0</td>\n",
       "      <td>88</td>\n",
       "      <td>0.23</td>\n",
       "      <td>0.0</td>\n",
       "      <td>0.0</td>\n",
       "    </tr>\n",
       "    <tr>\n",
       "      <th>1</th>\n",
       "      <td>2021</td>\n",
       "      <td>1</td>\n",
       "      <td>1</td>\n",
       "      <td>2</td>\n",
       "      <td>0</td>\n",
       "      <td>?9?9?9?9E0?9?9?9?9?9?9?9?9?9?9?9*9?9*9*9?9*9</td>\n",
       "      <td>9.4</td>\n",
       "      <td>-4.4</td>\n",
       "      <td>36</td>\n",
       "      <td>94382</td>\n",
       "      <td>...</td>\n",
       "      <td>77777</td>\n",
       "      <td>9</td>\n",
       "      <td>999999999</td>\n",
       "      <td>6</td>\n",
       "      <td>0.085</td>\n",
       "      <td>0</td>\n",
       "      <td>88</td>\n",
       "      <td>0.23</td>\n",
       "      <td>0.0</td>\n",
       "      <td>0.0</td>\n",
       "    </tr>\n",
       "    <tr>\n",
       "      <th>2</th>\n",
       "      <td>2021</td>\n",
       "      <td>1</td>\n",
       "      <td>1</td>\n",
       "      <td>3</td>\n",
       "      <td>0</td>\n",
       "      <td>?9?9?9?9E0?9?9?9?9?9?9?9?9?9?9?9*9?9*9*9?9*9</td>\n",
       "      <td>7.2</td>\n",
       "      <td>-5.0</td>\n",
       "      <td>40</td>\n",
       "      <td>94383</td>\n",
       "      <td>...</td>\n",
       "      <td>77777</td>\n",
       "      <td>9</td>\n",
       "      <td>999999999</td>\n",
       "      <td>6</td>\n",
       "      <td>0.085</td>\n",
       "      <td>0</td>\n",
       "      <td>88</td>\n",
       "      <td>0.23</td>\n",
       "      <td>0.0</td>\n",
       "      <td>0.0</td>\n",
       "    </tr>\n",
       "    <tr>\n",
       "      <th>3</th>\n",
       "      <td>2021</td>\n",
       "      <td>1</td>\n",
       "      <td>1</td>\n",
       "      <td>4</td>\n",
       "      <td>0</td>\n",
       "      <td>?9?9?9?9E0?9?9?9?9?9?9?9?9?9?9?9*9?9*9*9?9*9</td>\n",
       "      <td>8.9</td>\n",
       "      <td>-5.0</td>\n",
       "      <td>35</td>\n",
       "      <td>94435</td>\n",
       "      <td>...</td>\n",
       "      <td>77777</td>\n",
       "      <td>9</td>\n",
       "      <td>999999999</td>\n",
       "      <td>6</td>\n",
       "      <td>0.085</td>\n",
       "      <td>0</td>\n",
       "      <td>88</td>\n",
       "      <td>0.23</td>\n",
       "      <td>0.0</td>\n",
       "      <td>0.0</td>\n",
       "    </tr>\n",
       "    <tr>\n",
       "      <th>4</th>\n",
       "      <td>2021</td>\n",
       "      <td>1</td>\n",
       "      <td>1</td>\n",
       "      <td>5</td>\n",
       "      <td>0</td>\n",
       "      <td>?9?9?9?9E0?9?9?9?9?9?9?9?9?9?9?9*9?9*9*9?9*9</td>\n",
       "      <td>8.9</td>\n",
       "      <td>-5.6</td>\n",
       "      <td>33</td>\n",
       "      <td>94463</td>\n",
       "      <td>...</td>\n",
       "      <td>77777</td>\n",
       "      <td>9</td>\n",
       "      <td>999999999</td>\n",
       "      <td>5</td>\n",
       "      <td>0.085</td>\n",
       "      <td>0</td>\n",
       "      <td>88</td>\n",
       "      <td>0.23</td>\n",
       "      <td>0.0</td>\n",
       "      <td>0.0</td>\n",
       "    </tr>\n",
       "    <tr>\n",
       "      <th>...</th>\n",
       "      <td>...</td>\n",
       "      <td>...</td>\n",
       "      <td>...</td>\n",
       "      <td>...</td>\n",
       "      <td>...</td>\n",
       "      <td>...</td>\n",
       "      <td>...</td>\n",
       "      <td>...</td>\n",
       "      <td>...</td>\n",
       "      <td>...</td>\n",
       "      <td>...</td>\n",
       "      <td>...</td>\n",
       "      <td>...</td>\n",
       "      <td>...</td>\n",
       "      <td>...</td>\n",
       "      <td>...</td>\n",
       "      <td>...</td>\n",
       "      <td>...</td>\n",
       "      <td>...</td>\n",
       "      <td>...</td>\n",
       "      <td>...</td>\n",
       "    </tr>\n",
       "    <tr>\n",
       "      <th>8755</th>\n",
       "      <td>2012</td>\n",
       "      <td>12</td>\n",
       "      <td>31</td>\n",
       "      <td>20</td>\n",
       "      <td>0</td>\n",
       "      <td>?9?9?9?9E0?9?9?9?9?9?9?9?9?9?9?9*9?9*9*9?9*9</td>\n",
       "      <td>5.6</td>\n",
       "      <td>-2.8</td>\n",
       "      <td>53</td>\n",
       "      <td>94129</td>\n",
       "      <td>...</td>\n",
       "      <td>77777</td>\n",
       "      <td>9</td>\n",
       "      <td>999999999</td>\n",
       "      <td>7</td>\n",
       "      <td>0.085</td>\n",
       "      <td>0</td>\n",
       "      <td>88</td>\n",
       "      <td>0.23</td>\n",
       "      <td>0.0</td>\n",
       "      <td>0.0</td>\n",
       "    </tr>\n",
       "    <tr>\n",
       "      <th>8756</th>\n",
       "      <td>2012</td>\n",
       "      <td>12</td>\n",
       "      <td>31</td>\n",
       "      <td>21</td>\n",
       "      <td>0</td>\n",
       "      <td>?9?9?9?9E0?9?9?9?9?9?9?9?9?9?9?9*9?9*9*9?9*9</td>\n",
       "      <td>5.0</td>\n",
       "      <td>-2.8</td>\n",
       "      <td>55</td>\n",
       "      <td>94178</td>\n",
       "      <td>...</td>\n",
       "      <td>77777</td>\n",
       "      <td>9</td>\n",
       "      <td>999999999</td>\n",
       "      <td>7</td>\n",
       "      <td>0.085</td>\n",
       "      <td>0</td>\n",
       "      <td>88</td>\n",
       "      <td>0.23</td>\n",
       "      <td>0.0</td>\n",
       "      <td>0.0</td>\n",
       "    </tr>\n",
       "    <tr>\n",
       "      <th>8757</th>\n",
       "      <td>2012</td>\n",
       "      <td>12</td>\n",
       "      <td>31</td>\n",
       "      <td>22</td>\n",
       "      <td>0</td>\n",
       "      <td>?9?9?9?9E0?9?9?9?9?9?9?9?9?9?9?9*9?9*9*9?9*9</td>\n",
       "      <td>4.4</td>\n",
       "      <td>-3.3</td>\n",
       "      <td>55</td>\n",
       "      <td>94200</td>\n",
       "      <td>...</td>\n",
       "      <td>77777</td>\n",
       "      <td>9</td>\n",
       "      <td>999999999</td>\n",
       "      <td>7</td>\n",
       "      <td>0.085</td>\n",
       "      <td>0</td>\n",
       "      <td>88</td>\n",
       "      <td>0.23</td>\n",
       "      <td>0.0</td>\n",
       "      <td>0.0</td>\n",
       "    </tr>\n",
       "    <tr>\n",
       "      <th>8758</th>\n",
       "      <td>2012</td>\n",
       "      <td>12</td>\n",
       "      <td>31</td>\n",
       "      <td>23</td>\n",
       "      <td>0</td>\n",
       "      <td>?9?9?9?9E0?9?9?9?9?9?9?9?9?9?9?9*9?9*9*9?9*9</td>\n",
       "      <td>3.9</td>\n",
       "      <td>-2.8</td>\n",
       "      <td>60</td>\n",
       "      <td>94243</td>\n",
       "      <td>...</td>\n",
       "      <td>77777</td>\n",
       "      <td>9</td>\n",
       "      <td>999999999</td>\n",
       "      <td>7</td>\n",
       "      <td>0.085</td>\n",
       "      <td>0</td>\n",
       "      <td>88</td>\n",
       "      <td>0.23</td>\n",
       "      <td>0.0</td>\n",
       "      <td>0.0</td>\n",
       "    </tr>\n",
       "    <tr>\n",
       "      <th>8759</th>\n",
       "      <td>2012</td>\n",
       "      <td>12</td>\n",
       "      <td>31</td>\n",
       "      <td>24</td>\n",
       "      <td>0</td>\n",
       "      <td>?9?9?9?9E0?9?9?9?9?9?9?9?9?9?9?9*9?9*9*9?9*9</td>\n",
       "      <td>3.9</td>\n",
       "      <td>-2.8</td>\n",
       "      <td>60</td>\n",
       "      <td>94280</td>\n",
       "      <td>...</td>\n",
       "      <td>77777</td>\n",
       "      <td>9</td>\n",
       "      <td>999999999</td>\n",
       "      <td>7</td>\n",
       "      <td>0.085</td>\n",
       "      <td>0</td>\n",
       "      <td>88</td>\n",
       "      <td>0.23</td>\n",
       "      <td>0.0</td>\n",
       "      <td>0.0</td>\n",
       "    </tr>\n",
       "  </tbody>\n",
       "</table>\n",
       "<p>8760 rows × 35 columns</p>\n",
       "</div>"
      ],
      "text/plain": [
       "        0   1   2   3   4                                             5    6   \\\n",
       "0     2021   1   1   1   0  ?9?9?9?9E0?9?9?9?9?9?9?9?9?9?9?9*9?9*9*9?9*9  8.3   \n",
       "1     2021   1   1   2   0  ?9?9?9?9E0?9?9?9?9?9?9?9?9?9?9?9*9?9*9*9?9*9  9.4   \n",
       "2     2021   1   1   3   0  ?9?9?9?9E0?9?9?9?9?9?9?9?9?9?9?9*9?9*9*9?9*9  7.2   \n",
       "3     2021   1   1   4   0  ?9?9?9?9E0?9?9?9?9?9?9?9?9?9?9?9*9?9*9*9?9*9  8.9   \n",
       "4     2021   1   1   5   0  ?9?9?9?9E0?9?9?9?9?9?9?9?9?9?9?9*9?9*9*9?9*9  8.9   \n",
       "...    ...  ..  ..  ..  ..                                           ...  ...   \n",
       "8755  2012  12  31  20   0  ?9?9?9?9E0?9?9?9?9?9?9?9?9?9?9?9*9?9*9*9?9*9  5.6   \n",
       "8756  2012  12  31  21   0  ?9?9?9?9E0?9?9?9?9?9?9?9?9?9?9?9*9?9*9*9?9*9  5.0   \n",
       "8757  2012  12  31  22   0  ?9?9?9?9E0?9?9?9?9?9?9?9?9?9?9?9*9?9*9*9?9*9  4.4   \n",
       "8758  2012  12  31  23   0  ?9?9?9?9E0?9?9?9?9?9?9?9?9?9?9?9*9?9*9*9?9*9  3.9   \n",
       "8759  2012  12  31  24   0  ?9?9?9?9E0?9?9?9?9?9?9?9?9?9?9?9*9?9*9*9?9*9  3.9   \n",
       "\n",
       "       7   8      9   ...     25  26         27  28     29  30  31    32   33  \\\n",
       "0    -3.9  40  94364  ...  77777   9  999999999   6  0.085   0  88  0.23  0.0   \n",
       "1    -4.4  36  94382  ...  77777   9  999999999   6  0.085   0  88  0.23  0.0   \n",
       "2    -5.0  40  94383  ...  77777   9  999999999   6  0.085   0  88  0.23  0.0   \n",
       "3    -5.0  35  94435  ...  77777   9  999999999   6  0.085   0  88  0.23  0.0   \n",
       "4    -5.6  33  94463  ...  77777   9  999999999   5  0.085   0  88  0.23  0.0   \n",
       "...   ...  ..    ...  ...    ...  ..        ...  ..    ...  ..  ..   ...  ...   \n",
       "8755 -2.8  53  94129  ...  77777   9  999999999   7  0.085   0  88  0.23  0.0   \n",
       "8756 -2.8  55  94178  ...  77777   9  999999999   7  0.085   0  88  0.23  0.0   \n",
       "8757 -3.3  55  94200  ...  77777   9  999999999   7  0.085   0  88  0.23  0.0   \n",
       "8758 -2.8  60  94243  ...  77777   9  999999999   7  0.085   0  88  0.23  0.0   \n",
       "8759 -2.8  60  94280  ...  77777   9  999999999   7  0.085   0  88  0.23  0.0   \n",
       "\n",
       "       34  \n",
       "0     0.0  \n",
       "1     0.0  \n",
       "2     0.0  \n",
       "3     0.0  \n",
       "4     0.0  \n",
       "...   ...  \n",
       "8755  0.0  \n",
       "8756  0.0  \n",
       "8757  0.0  \n",
       "8758  0.0  \n",
       "8759  0.0  \n",
       "\n",
       "[8760 rows x 35 columns]"
      ]
     },
     "execution_count": 13,
     "metadata": {},
     "output_type": "execute_result"
    }
   ],
   "source": [
    "df = pd.read_csv('downloads_EPW//USA_CA_Twentynine.Palms.SELF.690150_TMYx.2007-2021.epw',skiprows=8,delimiter=',',header=None) \n",
    "df"
   ]
  },
  {
   "cell_type": "markdown",
   "id": "bc6d4e7b",
   "metadata": {},
   "source": [
    "N1, \\field Year\n",
    "N2, \\field Month\n",
    "N3, \\field Day\n",
    "N4, \\field Hour\n",
    "N5, \\field Minute\n",
    "A1, \\field Data Source and Uncertainty Flags\n",
    "N6, \\field Dry Bulb Temperature \\units C\n",
    " \\minimum> -70\n",
    "\\maximum< 70\n",
    "\\missing 99.9\n",
    "N7, \\field Dew Point Temperature \\units C\n",
    "\\minimum> -70\n",
    "\\maximum< 70\n",
    "\\missing 99.9\n",
    "N8, \\field Relative Humidity \\missing 999.\n",
    "\\minimum 0\n",
    "\\maximum 110\n",
    "N9, \\field Atmospheric Station Pressure\n",
    "   \\units Pa\n",
    "   \\missing 999999.\n",
    "   \\minimum> 31000\n",
    "   \\maximum< 120000"
   ]
  },
  {
   "cell_type": "code",
   "execution_count": 14,
   "id": "e36a8ef2",
   "metadata": {},
   "outputs": [
    {
     "data": {
      "text/plain": [
       "0       8.3\n",
       "1       9.4\n",
       "2       7.2\n",
       "3       8.9\n",
       "4       8.9\n",
       "       ... \n",
       "8755    5.6\n",
       "8756    5.0\n",
       "8757    4.4\n",
       "8758    3.9\n",
       "8759    3.9\n",
       "Name: 6, Length: 8760, dtype: float64"
      ]
     },
     "execution_count": 14,
     "metadata": {},
     "output_type": "execute_result"
    }
   ],
   "source": [
    "df_dbt = df[df.columns[6]]\n",
    "df_dbt"
   ]
  },
  {
   "cell_type": "code",
   "execution_count": 15,
   "id": "0fdee01b",
   "metadata": {},
   "outputs": [
    {
     "data": {
      "text/plain": [
       "<AxesSubplot:ylabel='Frequency'>"
      ]
     },
     "execution_count": 15,
     "metadata": {},
     "output_type": "execute_result"
    },
    {
     "data": {
      "image/png": "[encoded data removed]",
      "text/plain": [
       "<Figure size 432x288 with 1 Axes>"
      ]
     },
     "metadata": {
      "needs_background": "light"
     },
     "output_type": "display_data"
    }
   ],
   "source": [
    "df_dbt.plot.hist()"
   ]
  },
  {
   "cell_type": "code",
   "execution_count": 16,
   "id": "754c15b4",
   "metadata": {},
   "outputs": [
    {
     "data": {
      "text/plain": [
       "count    8760.000000\n",
       "mean       21.116267\n",
       "std        10.197924\n",
       "min        -5.000000\n",
       "25%        12.800000\n",
       "50%        21.100000\n",
       "75%        29.400000\n",
       "max        45.600000\n",
       "Name: 6, dtype: float64"
      ]
     },
     "execution_count": 16,
     "metadata": {},
     "output_type": "execute_result"
    }
   ],
   "source": [
    "df_dbt.describe()"
   ]
  },
  {
   "cell_type": "code",
   "execution_count": 17,
   "id": "c919dc1c",
   "metadata": {},
   "outputs": [],
   "source": [
    "#need to clean data?"
   ]
  },
  {
   "cell_type": "code",
   "execution_count": 18,
   "id": "ce331bff",
   "metadata": {},
   "outputs": [
    {
     "data": {
      "text/plain": [
       "41.1"
      ]
     },
     "execution_count": 18,
     "metadata": {},
     "output_type": "execute_result"
    }
   ],
   "source": [
    "df_dbt.quantile(q=0.99)"
   ]
  },
  {
   "cell_type": "code",
   "execution_count": 19,
   "id": "f77ffe36",
   "metadata": {},
   "outputs": [
    {
     "data": {
      "text/plain": [
       "42.2"
      ]
     },
     "execution_count": 19,
     "metadata": {},
     "output_type": "execute_result"
    }
   ],
   "source": [
    "df_dbt.quantile(q=0.996)"
   ]
  },
  {
   "cell_type": "code",
   "execution_count": 20,
   "id": "1754dba5",
   "metadata": {},
   "outputs": [
    {
     "data": {
      "text/plain": [
       "-0.6"
      ]
     },
     "execution_count": 20,
     "metadata": {},
     "output_type": "execute_result"
    }
   ],
   "source": [
    "df_dbt.quantile(q=0.004)"
   ]
  },
  {
   "cell_type": "code",
   "execution_count": 21,
   "id": "5a153721",
   "metadata": {},
   "outputs": [
    {
     "data": {
      "text/plain": [
       "1.1"
      ]
     },
     "execution_count": 21,
     "metadata": {},
     "output_type": "execute_result"
    }
   ],
   "source": [
    "df_dbt.quantile(q=0.01)"
   ]
  },
  {
   "cell_type": "code",
   "execution_count": 10,
   "id": "2c17ab13",
   "metadata": {},
   "outputs": [],
   "source": [
    "filename = 'test.csv'\n",
    "export_csv = df.to_csv (filename, index = None, header=True) "
   ]
  },
  {
   "cell_type": "code",
   "execution_count": null,
   "id": "c4391414",
   "metadata": {},
   "outputs": [],
   "source": []
  }
 ],
 "metadata": {
  "kernelspec": {
   "display_name": "Python 3 (ipykernel)",
   "language": "python",
   "name": "python3"
  },
  "language_info": {
   "codemirror_mode": {
    "name": "ipython",
    "version": 3
   },
   "file_extension": ".py",
   "mimetype": "text/x-python",
   "name": "python",
   "nbconvert_exporter": "python",
   "pygments_lexer": "ipython3",
   "version": "3.9.12"
  }
 },
 "nbformat": 4,
 "nbformat_minor": 5
}

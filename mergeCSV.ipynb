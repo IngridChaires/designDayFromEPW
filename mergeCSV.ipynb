{
 "cells": [
  {
   "cell_type": "code",
   "execution_count": 2,
   "id": "4dfa607f",
   "metadata": {},
   "outputs": [],
   "source": [
    "import shutil\n",
    "import glob"
   ]
  },
  {
   "cell_type": "code",
   "execution_count": 3,
   "id": "d0b97157",
   "metadata": {},
   "outputs": [],
   "source": [
    "outfilename = 'AllRegion_EPWLinks.csv'"
   ]
  },
  {
   "cell_type": "code",
   "execution_count": 4,
   "id": "8e8092d1",
   "metadata": {},
   "outputs": [],
   "source": [
    "with open(outfilename, 'wb') as outfile:\n",
    "    for filename in glob.glob('EPWLinks/*.csv'):\n",
    "        if filename == outfilename:\n",
    "            # don't want to copy the output into the output\n",
    "            continue\n",
    "        with open(filename, 'rb') as readfile:\n",
    "            shutil.copyfileobj(readfile, outfile)"
   ]
  },
  {
   "cell_type": "code",
   "execution_count": null,
   "id": "26dee40f",
   "metadata": {},
   "outputs": [],
   "source": []
  }
 ],
 "metadata": {
  "kernelspec": {
   "display_name": "Python 3 (ipykernel)",
   "language": "python",
   "name": "python3"
  },
  "language_info": {
   "codemirror_mode": {
    "name": "ipython",
    "version": 3
   },
   "file_extension": ".py",
   "mimetype": "text/x-python",
   "name": "python",
   "nbconvert_exporter": "python",
   "pygments_lexer": "ipython3",
   "version": "3.9.12"
  }
 },
 "nbformat": 4,
 "nbformat_minor": 5
}
